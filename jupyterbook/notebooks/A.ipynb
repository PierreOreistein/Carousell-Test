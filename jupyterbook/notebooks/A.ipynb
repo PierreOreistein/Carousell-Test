{
 "cells": [
  {
   "cell_type": "markdown",
   "id": "1e8f27a6",
   "metadata": {
    "id": "1e8f27a6"
   },
   "source": [
    "# 0 - Information"
   ]
  },
  {
   "cell_type": "code",
   "execution_count": 1,
   "id": "0b4736e4",
   "metadata": {
    "id": "0b4736e4"
   },
   "outputs": [],
   "source": [
    "# Author: Pierre Oreistein\n",
    "# Last edit: 06/06/2021"
   ]
  },
  {
   "cell_type": "markdown",
   "id": "dbab8a34",
   "metadata": {
    "id": "dbab8a34"
   },
   "source": [
    "# 1 - Packages"
   ]
  },
  {
   "cell_type": "markdown",
   "id": "cee4c257",
   "metadata": {
    "id": "cee4c257"
   },
   "source": [
    "## 1.1 - Mainstream Packages"
   ]
  },
  {
   "cell_type": "code",
   "execution_count": 2,
   "id": "e9cc4147",
   "metadata": {
    "id": "e9cc4147"
   },
   "outputs": [],
   "source": [
    "# Maths packages\n",
    "import numpy as np\n",
    "\n",
    "# Data Handling Packages\n",
    "import pandas as pd\n",
    "\n",
    "# Machine Learning Packages\n",
    "from sklearn import preprocessing\n",
    "from sklearn.model_selection import train_test_split\n",
    "from sklearn.utils.class_weight import compute_class_weight\n",
    "\n",
    "# NLP Packages\n",
    "from transformers import AutoTokenizer, TFAutoModelForSequenceClassification\n",
    "from datasets import Dataset\n",
    "\n",
    "# Deep learning packages\n",
    "import tensorflow as tf\n",
    "from tensorflow.keras.optimizers import Adam\n",
    "from tensorflow.keras.losses import SparseCategoricalCrossentropy, CategoricalCrossentropy\n",
    "from tensorflow.keras.metrics import SparseCategoricalAccuracy, CategoricalAccuracy\n",
    "from tensorflow.keras.utils import to_categorical\n",
    "from tensorflow.keras.callbacks import ModelCheckpoint\n",
    "\n",
    "# Utils\n",
    "import pprint\n",
    "from colorama import Fore, Back, Style\n",
    "from IPython.display import display, HTML\n",
    "import warnings\n",
    "warnings.filterwarnings('ignore')\n",
    "\n",
    "# Static Type Checking\n",
    "from typing import List, Union"
   ]
  },
  {
   "cell_type": "markdown",
   "id": "3a435154",
   "metadata": {
    "id": "3a435154"
   },
   "source": [
    "## 1.2 - Personnal Utils"
   ]
  },
  {
   "cell_type": "code",
   "execution_count": 3,
   "id": "cedf4fbc",
   "metadata": {
    "id": "cedf4fbc"
   },
   "outputs": [],
   "source": [
    " class COLOR:\n",
    "    PURPLE = '\\033[95m'\n",
    "    CYAN = '\\033[96m'\n",
    "    DARKCYAN = '\\033[36m'\n",
    "    BLUE = '\\033[94m'\n",
    "    GREEN = '\\033[92m'\n",
    "    YELLOW = '\\033[93m'\n",
    "    RED = '\\033[91m'\n",
    "    BOLD = '\\033[1m'\n",
    "    UNDERLINE = '\\033[4m'\n",
    "    END = '\\033[0m'\n",
    "    \n",
    "def display_check(boolean: bool) -> str:\n",
    "    \"\"\"\n",
    "    Display the boolean with color and bold for easier understanding.\n",
    "    \"\"\"\n",
    "    # If the boolean is True\n",
    "    if boolean:\n",
    "        return COLOR.BOLD + Back.GREEN + \"True\" + Style.RESET_ALL\n",
    "    else:\n",
    "        return COLOR.BOLD + Back.RED + \"False\" + Style.RESET_ALL\n",
    "    \n",
    "def display_title(title: str) -> None:\n",
    "    \"\"\"Display title\"\"\"\n",
    "    print(f\"----- {COLOR.BOLD} {title} {Style.RESET_ALL} -----\")\n",
    "    \n",
    "def display_dataframe(df: pd.DataFrame) -> None:\n",
    "    \"\"\"Pretty display inside Jupyter Notebook of DataFrames.\"\"\"\n",
    "    display(HTML(df.to_html()))"
   ]
  },
  {
   "cell_type": "markdown",
   "id": "98c503ce",
   "metadata": {
    "id": "98c503ce"
   },
   "source": [
    "# 2 - Load Data and Global Parameters"
   ]
  },
  {
   "cell_type": "markdown",
   "id": "287021ed",
   "metadata": {
    "id": "287021ed"
   },
   "source": [
    "## 2.1 - Load Data"
   ]
  },
  {
   "cell_type": "code",
   "execution_count": 4,
   "id": "2a384fdf",
   "metadata": {
    "colab": {
     "base_uri": "https://localhost:8080/",
     "height": 204
    },
    "id": "2a384fdf",
    "outputId": "a42fc52f-7306-4717-aef5-774cb5430a42"
   },
   "outputs": [
    {
     "data": {
      "text/html": [
       "<table border=\"1\" class=\"dataframe\">\n",
       "  <thead>\n",
       "    <tr style=\"text-align: right;\">\n",
       "      <th></th>\n",
       "      <th>id</th>\n",
       "      <th>l1_category_name</th>\n",
       "      <th>l2_category_name</th>\n",
       "      <th>l3_category_name</th>\n",
       "      <th>title</th>\n",
       "      <th>category_id</th>\n",
       "      <th>price</th>\n",
       "    </tr>\n",
       "  </thead>\n",
       "  <tbody>\n",
       "    <tr>\n",
       "      <th>0</th>\n",
       "      <td>7f1f33cf-a59a-4114-8f9e-cf3effaa2341</td>\n",
       "      <td>Men's Fashion</td>\n",
       "      <td>Men's Watches</td>\n",
       "      <td>NaN</td>\n",
       "      <td>Fossil Leather Watch</td>\n",
       "      <td>20</td>\n",
       "      <td>100.56</td>\n",
       "    </tr>\n",
       "    <tr>\n",
       "      <th>1</th>\n",
       "      <td>88765cd5-3f53-403c-841a-12dc367843c9</td>\n",
       "      <td>Men's Fashion</td>\n",
       "      <td>Men's Watches</td>\n",
       "      <td>NaN</td>\n",
       "      <td>* FREE DELIVERY * JDM Brand New 100% Authentic Seiko Presage White Dial &amp; Blue Hands Men's Automatic Dress Watch SARX033</td>\n",
       "      <td>20</td>\n",
       "      <td>1008.37</td>\n",
       "    </tr>\n",
       "    <tr>\n",
       "      <th>2</th>\n",
       "      <td>264e2900-ba35-4ac0-8858-e2fcb0909e6d</td>\n",
       "      <td>Men's Fashion</td>\n",
       "      <td>Men's Watches</td>\n",
       "      <td>NaN</td>\n",
       "      <td>St Dupont Classic Pen</td>\n",
       "      <td>20</td>\n",
       "      <td>220.31</td>\n",
       "    </tr>\n",
       "    <tr>\n",
       "      <th>3</th>\n",
       "      <td>ffc7337a-7d04-4fa8-a136-ac9d8413f8e8</td>\n",
       "      <td>Men's Fashion</td>\n",
       "      <td>Men's Watches</td>\n",
       "      <td>NaN</td>\n",
       "      <td>CASIO G-SHOCK GX-56BB-1DR / GX-56BB-1D / GX-56BB-1 / GX-56BB TOUGH SOLAR WATCH</td>\n",
       "      <td>20</td>\n",
       "      <td>104.95</td>\n",
       "    </tr>\n",
       "    <tr>\n",
       "      <th>4</th>\n",
       "      <td>34a2e32c-db54-4aff-b89d-173bacbac346</td>\n",
       "      <td>Men's Fashion</td>\n",
       "      <td>Men's Watches</td>\n",
       "      <td>NaN</td>\n",
       "      <td>Fossil Townsman Twist ME1164P</td>\n",
       "      <td>20</td>\n",
       "      <td>166.37</td>\n",
       "    </tr>\n",
       "  </tbody>\n",
       "</table>"
      ],
      "text/plain": [
       "<IPython.core.display.HTML object>"
      ]
     },
     "metadata": {},
     "output_type": "display_data"
    }
   ],
   "source": [
    "# Load the data\n",
    "train_raw_df = pd.read_csv(\"./Data/01_Raw_Data/train.csv\")\n",
    "\n",
    "# Display the raw data\n",
    "display_dataframe(train_raw_df.head(5));"
   ]
  },
  {
   "cell_type": "code",
   "execution_count": 5,
   "id": "684e50d1",
   "metadata": {
    "colab": {
     "base_uri": "https://localhost:8080/",
     "height": 204
    },
    "id": "684e50d1",
    "outputId": "d834acec-ec4d-4d7e-9d17-852cd2282752"
   },
   "outputs": [
    {
     "data": {
      "text/html": [
       "<table border=\"1\" class=\"dataframe\">\n",
       "  <thead>\n",
       "    <tr style=\"text-align: right;\">\n",
       "      <th></th>\n",
       "      <th>id</th>\n",
       "      <th>title</th>\n",
       "      <th>price</th>\n",
       "    </tr>\n",
       "  </thead>\n",
       "  <tbody>\n",
       "    <tr>\n",
       "      <th>0</th>\n",
       "      <td>c90123c0-09a2-4d0d-8ddd-447cd12edd4a</td>\n",
       "      <td>Yeezy boost 350 V2 Core Black/Ref</td>\n",
       "      <td>402.41</td>\n",
       "    </tr>\n",
       "    <tr>\n",
       "      <th>1</th>\n",
       "      <td>e1dc8ac7-6a89-4ef9-a790-3f4d0835aaf7</td>\n",
       "      <td>Nakamichi Sports Bluetooth Earphones</td>\n",
       "      <td>44.93</td>\n",
       "    </tr>\n",
       "    <tr>\n",
       "      <th>2</th>\n",
       "      <td>520743b2-6c83-4ba9-98a2-3d2fff697fa2</td>\n",
       "      <td>Tefal Steam Cuisine 900 Turbo Diffusion</td>\n",
       "      <td>104.00</td>\n",
       "    </tr>\n",
       "    <tr>\n",
       "      <th>3</th>\n",
       "      <td>e5136110-bd9b-4011-81f3-de904d916c91</td>\n",
       "      <td>B5 Lofter High Gain Wireless USB Adapter 1200Mbps</td>\n",
       "      <td>21.64</td>\n",
       "    </tr>\n",
       "    <tr>\n",
       "      <th>4</th>\n",
       "      <td>a459aa14-7e28-4a95-8c98-690509c373db</td>\n",
       "      <td>Taiwan Customize Handmade APO Float</td>\n",
       "      <td>41.60</td>\n",
       "    </tr>\n",
       "  </tbody>\n",
       "</table>"
      ],
      "text/plain": [
       "<IPython.core.display.HTML object>"
      ]
     },
     "metadata": {},
     "output_type": "display_data"
    }
   ],
   "source": [
    "# Load the data\n",
    "X_test_raw_df = pd.read_csv(\"./Data/01_Raw_Data/test.csv\")\n",
    "\n",
    "# Display the raw data\n",
    "display_dataframe(X_test_raw_df.head(5))"
   ]
  },
  {
   "cell_type": "markdown",
   "id": "8171112e",
   "metadata": {
    "id": "8171112e"
   },
   "source": [
    "## 2.2 - Global Parameters"
   ]
  },
  {
   "cell_type": "code",
   "execution_count": 6,
   "id": "29ecb0e7",
   "metadata": {
    "colab": {
     "base_uri": "https://localhost:8080/"
    },
    "id": "29ecb0e7",
    "outputId": "d9d3f136-19c7-4f6b-e04c-c614ab5b7ef1"
   },
   "outputs": [
    {
     "name": "stdout",
     "output_type": "stream",
     "text": [
      "----- \u001b[1m Number of classes to distinguish \u001b[0m -----\n",
      "Number of classes to predict? 13\n",
      "\n",
      "\n",
      "----- \u001b[1m Class Weights \u001b[0m -----\n",
      "{0: 1.850707323936456,\n",
      " 1: 19.80454421023816,\n",
      " 2: 0.5897082677839274,\n",
      " 3: 2.65003663003663,\n",
      " 4: 2.7965210668728258,\n",
      " 5: 0.5218564256448728,\n",
      " 6: 0.6002671689221144,\n",
      " 7: 0.35906038602986795,\n",
      " 8: 6.03915021495054,\n",
      " 9: 4.315685865123632,\n",
      " 10: 1.7350200851369986,\n",
      " 11: 0.7082953955806189,\n",
      " 12: 0.8158142524484239}\n",
      "\n",
      "\n"
     ]
    }
   ],
   "source": [
    "# Label Encoding of \"l1_category_name\"\n",
    "LE = preprocessing.LabelEncoder()\n",
    "LE.fit(train_raw_df.l1_category_name.unique())\n",
    "y_train_transformed = LE.transform(train_raw_df.l1_category_name.values)\n",
    "\n",
    "# Compute the number of classes\n",
    "CLASSES_L = LE.transform(train_raw_df.l1_category_name.unique())\n",
    "NUM_CLASSES = len(CLASSES_L)\n",
    "\n",
    "display_title(\"Number of classes to distinguish\")\n",
    "print(f\"Number of classes to predict? {NUM_CLASSES}\")\n",
    "print(\"\\n\")\n",
    "\n",
    "# Compute class weights\n",
    "CLASS_WEIGHTS_L = compute_class_weight(\n",
    "    class_weight=\"balanced\",\n",
    "    classes=CLASSES_L,\n",
    "    y=y_train_transformed\n",
    ")\n",
    "CLASS_WEIGHTS_DCT = {l1_category_id: CLASS_WEIGHTS_L[i] for i, l1_category_id in enumerate(CLASSES_L)}\n",
    "\n",
    "display_title(\"Class Weights\")\n",
    "pprint.pprint(CLASS_WEIGHTS_DCT)\n",
    "print(\"\\n\")\n",
    "\n",
    "# Random state\n",
    "RANDOM_STATE = 42\n",
    "\n",
    "# DEEP LEARNING MODEL PARAMETERS\n",
    "BATCH_SIZE = 8\n",
    "EPOCHS = 10"
   ]
  },
  {
   "cell_type": "markdown",
   "id": "365df997",
   "metadata": {
    "id": "365df997"
   },
   "source": [
    "# 3 - Data Cleaning and Preparation"
   ]
  },
  {
   "cell_type": "markdown",
   "id": "36bbe3f8",
   "metadata": {
    "id": "36bbe3f8"
   },
   "source": [
    "Comments\n",
    "-----\n",
    "\n",
    "Please find below our modelisation hypotheses and choices:\n",
    "* Following our observations in the notebook \"1-DATA-EXPLORATION\", we will discard the feature 'price' as it presents several difficulties (low information content, null values, extremely high values, etc)\n",
    "* As we have only a limited number of samples for some category_id, we will train our model to recognise the target \"l1_category_name\". By doing, so we will decrease the number of class to predict, in the same way, as our main goal is to maximise the top-3 classification and each \"l1_category_name\" is associated to at most 3 category_id, it will be more natural to do a top-3 classification. Finally, by choosing the target \"l1_category_name\", we will have target class that are more orthogonal to each other. The learning should therefore be easier."
   ]
  },
  {
   "cell_type": "markdown",
   "id": "0882e627",
   "metadata": {
    "id": "0882e627"
   },
   "source": [
    "## 3.1 - Data Cleaning and Preparation for Model Ingestion"
   ]
  },
  {
   "cell_type": "code",
   "execution_count": 7,
   "id": "5dd585c5",
   "metadata": {
    "id": "5dd585c5"
   },
   "outputs": [],
   "source": [
    "def data_preprocessing(df: pd.DataFrame) -> pd.DataFrame:\n",
    "    \"\"\"Preprocess the dataFrame and prepare it for model ingestion.\"\"\"\n",
    "    # Create a new copy of df\n",
    "    new_df = df.copy(deep=True)\n",
    "    \n",
    "    # Set the column \"id\" as the index\n",
    "    new_df.set_index(\"id\", inplace=True)\n",
    "    \n",
    "    # Keep only the columns \"l1_category_name\" if it exists and \"title\"\n",
    "    # The column 'price' is dropped for now\n",
    "    columns_to_drop_l = [col for col in new_df.columns if col not in [\"title\", \"l1_category_name\"]]\n",
    "    new_df.drop(columns=columns_to_drop_l, inplace=True)\n",
    "\n",
    "    # Transform the column \"l1_category_name\" if it exists\n",
    "    if \"l1_category_name\" in new_df.columns:\n",
    "        new_df[\"l1_category_name\"] = LE.transform(new_df[\"l1_category_name\"])\n",
    "    \n",
    "    return new_df"
   ]
  },
  {
   "cell_type": "code",
   "execution_count": 8,
   "id": "85429a51",
   "metadata": {
    "colab": {
     "base_uri": "https://localhost:8080/",
     "height": 235
    },
    "id": "85429a51",
    "outputId": "f5780186-53c5-434c-90ea-79b57ceda954"
   },
   "outputs": [
    {
     "data": {
      "text/html": [
       "<table border=\"1\" class=\"dataframe\">\n",
       "  <thead>\n",
       "    <tr style=\"text-align: right;\">\n",
       "      <th></th>\n",
       "      <th>l1_category_name</th>\n",
       "      <th>title</th>\n",
       "    </tr>\n",
       "    <tr>\n",
       "      <th>id</th>\n",
       "      <th></th>\n",
       "      <th></th>\n",
       "    </tr>\n",
       "  </thead>\n",
       "  <tbody>\n",
       "    <tr>\n",
       "      <th>7f1f33cf-a59a-4114-8f9e-cf3effaa2341</th>\n",
       "      <td>7</td>\n",
       "      <td>Fossil Leather Watch</td>\n",
       "    </tr>\n",
       "    <tr>\n",
       "      <th>88765cd5-3f53-403c-841a-12dc367843c9</th>\n",
       "      <td>7</td>\n",
       "      <td>* FREE DELIVERY * JDM Brand New 100% Authentic Seiko Presage White Dial &amp; Blue Hands Men's Automatic Dress Watch SARX033</td>\n",
       "    </tr>\n",
       "    <tr>\n",
       "      <th>264e2900-ba35-4ac0-8858-e2fcb0909e6d</th>\n",
       "      <td>7</td>\n",
       "      <td>St Dupont Classic Pen</td>\n",
       "    </tr>\n",
       "    <tr>\n",
       "      <th>ffc7337a-7d04-4fa8-a136-ac9d8413f8e8</th>\n",
       "      <td>7</td>\n",
       "      <td>CASIO G-SHOCK GX-56BB-1DR / GX-56BB-1D / GX-56BB-1 / GX-56BB TOUGH SOLAR WATCH</td>\n",
       "    </tr>\n",
       "    <tr>\n",
       "      <th>34a2e32c-db54-4aff-b89d-173bacbac346</th>\n",
       "      <td>7</td>\n",
       "      <td>Fossil Townsman Twist ME1164P</td>\n",
       "    </tr>\n",
       "  </tbody>\n",
       "</table>"
      ],
      "text/plain": [
       "<IPython.core.display.HTML object>"
      ]
     },
     "metadata": {},
     "output_type": "display_data"
    }
   ],
   "source": [
    "# Preprocess the data for cleaning\n",
    "train_df = data_preprocessing(train_raw_df)\n",
    "X_test_df = data_preprocessing(X_test_raw_df)\n",
    "\n",
    "# And save the preprocess dataframe\n",
    "train_df.to_csv(\"./Data/02_Data_Features/train.csv\")\n",
    "X_test_df.to_csv(\"./Data/02_Data_Features/X_test.csv\")\n",
    "\n",
    "# Display the resulting dataFrames\n",
    "display_dataframe(train_df.head(5))"
   ]
  },
  {
   "cell_type": "markdown",
   "id": "bd9287cc",
   "metadata": {
    "id": "bd9287cc"
   },
   "source": [
    "# 4 - Tokenization of the Sentences & Build Models Inputs"
   ]
  },
  {
   "cell_type": "markdown",
   "id": "c6f9fe7e",
   "metadata": {
    "id": "c6f9fe7e"
   },
   "source": [
    "## 4.1 - Split the Training set into a training and a validation set"
   ]
  },
  {
   "cell_type": "code",
   "execution_count": 9,
   "id": "e3c0d780",
   "metadata": {
    "id": "e3c0d780"
   },
   "outputs": [],
   "source": [
    "def prepare_model_training_inputs(\n",
    "    df: pd.DataFrame,\n",
    "    test_size: float=0.1,\n",
    "    num_classes: int=NUM_CLASSES\n",
    ") -> List[Union[pd.DataFrame, np.array]]:\n",
    "    \"\"\"Prepare model inputs.\"\"\"\n",
    "    # Divide the training set between a training and validation set\n",
    "    X_train_df, y_train_df = df[\"title\"], df[\"l1_category_name\"]\n",
    "        \n",
    "    # Split the training set into a training and validation set\n",
    "    X_train, X_val, y_train, y_val = train_test_split(\n",
    "        X_train_df,\n",
    "        y_train_df,\n",
    "        test_size=test_size,\n",
    "        random_state=RANDOM_STATE,\n",
    "        shuffle=True,\n",
    "        stratify=y_train_df.values,   \n",
    "    )\n",
    "\n",
    "    # Convert to dataFrames\n",
    "    X_train_df = X_train.to_frame(name=\"title\")\n",
    "    X_val_df = X_val.to_frame(name=\"title\")\n",
    "    \n",
    "    # Append the ground truth as a label\n",
    "    X_train_df[\"label\"] = y_train\n",
    "    X_val_df[\"label\"] = y_val\n",
    "    \n",
    "    return X_train_df, X_val_df"
   ]
  },
  {
   "cell_type": "code",
   "execution_count": 10,
   "id": "6dd5fa6e",
   "metadata": {
    "colab": {
     "base_uri": "https://localhost:8080/",
     "height": 235
    },
    "id": "6dd5fa6e",
    "outputId": "96c4a8f6-11d2-44f4-d681-0fc600600977"
   },
   "outputs": [
    {
     "data": {
      "text/html": [
       "<table border=\"1\" class=\"dataframe\">\n",
       "  <thead>\n",
       "    <tr style=\"text-align: right;\">\n",
       "      <th></th>\n",
       "      <th>title</th>\n",
       "      <th>label</th>\n",
       "    </tr>\n",
       "    <tr>\n",
       "      <th>id</th>\n",
       "      <th></th>\n",
       "      <th></th>\n",
       "    </tr>\n",
       "  </thead>\n",
       "  <tbody>\n",
       "    <tr>\n",
       "      <th>8020f93b-ff12-4a47-b0db-bbac8b9c46b4</th>\n",
       "      <td>wtt/wts supreme mercenary tee</td>\n",
       "      <td>7</td>\n",
       "    </tr>\n",
       "    <tr>\n",
       "      <th>65403f49-f3b7-4dfc-8b31-030bd68068aa</th>\n",
       "      <td>Big sister little sister red sister</td>\n",
       "      <td>0</td>\n",
       "    </tr>\n",
       "    <tr>\n",
       "      <th>d6fc13f0-ba1c-49ec-af92-924251543e7c</th>\n",
       "      <td>Steamboat</td>\n",
       "      <td>6</td>\n",
       "    </tr>\n",
       "    <tr>\n",
       "      <th>2e2c1470-7662-4856-bc05-bbfd491957c3</th>\n",
       "      <td>Kmart paperbag linen shorts navy</td>\n",
       "      <td>12</td>\n",
       "    </tr>\n",
       "    <tr>\n",
       "      <th>374de8af-5e93-40d9-98a0-b81c2fb5b909</th>\n",
       "      <td>Taurus 3D Crystal block-Taurus</td>\n",
       "      <td>11</td>\n",
       "    </tr>\n",
       "  </tbody>\n",
       "</table>"
      ],
      "text/plain": [
       "<IPython.core.display.HTML object>"
      ]
     },
     "metadata": {},
     "output_type": "display_data"
    }
   ],
   "source": [
    "# Split the training set\n",
    "X_train_df, X_val_df = prepare_model_training_inputs(train_df, test_size=0.1)\n",
    "\n",
    "# Display resulting traning set\n",
    "display_dataframe(X_train_df.head(5))"
   ]
  },
  {
   "cell_type": "code",
   "execution_count": 11,
   "id": "b3d8c7ce",
   "metadata": {
    "colab": {
     "base_uri": "https://localhost:8080/",
     "height": 235
    },
    "id": "b3d8c7ce",
    "outputId": "ea4c061d-4c7c-4d81-9366-e2d98208f353"
   },
   "outputs": [
    {
     "data": {
      "text/html": [
       "<table border=\"1\" class=\"dataframe\">\n",
       "  <thead>\n",
       "    <tr style=\"text-align: right;\">\n",
       "      <th></th>\n",
       "      <th>title</th>\n",
       "      <th>label</th>\n",
       "    </tr>\n",
       "    <tr>\n",
       "      <th>id</th>\n",
       "      <th></th>\n",
       "      <th></th>\n",
       "    </tr>\n",
       "  </thead>\n",
       "  <tbody>\n",
       "    <tr>\n",
       "      <th>adc6669b-dbc1-4d03-b504-aa34ac61cf61</th>\n",
       "      <td>LEGO Overwatch Hanzo vs Genji</td>\n",
       "      <td>11</td>\n",
       "    </tr>\n",
       "    <tr>\n",
       "      <th>e0f02990-0fba-4fa9-bdd2-dbfc70d602ec</th>\n",
       "      <td>Denim Flare Pants</td>\n",
       "      <td>12</td>\n",
       "    </tr>\n",
       "    <tr>\n",
       "      <th>c1940623-df11-446b-bd0c-0f20576a0f35</th>\n",
       "      <td>$5 OFF</td>\n",
       "      <td>7</td>\n",
       "    </tr>\n",
       "    <tr>\n",
       "      <th>cc9f1382-e2f8-4f8c-9925-bf80c697a014</th>\n",
       "      <td>2019 autumn and winter new business casual fashion printin</td>\n",
       "      <td>7</td>\n",
       "    </tr>\n",
       "    <tr>\n",
       "      <th>ab343b1d-8a18-4ef2-b8cd-e7afe30ff63e</th>\n",
       "      <td>Silver Simple Anchor Triple Brown Leather Tour Bracelet</td>\n",
       "      <td>7</td>\n",
       "    </tr>\n",
       "  </tbody>\n",
       "</table>"
      ],
      "text/plain": [
       "<IPython.core.display.HTML object>"
      ]
     },
     "metadata": {},
     "output_type": "display_data"
    }
   ],
   "source": [
    "display_dataframe(X_val_df.head(5))"
   ]
  },
  {
   "cell_type": "code",
   "execution_count": 12,
   "id": "474d3096",
   "metadata": {
    "colab": {
     "base_uri": "https://localhost:8080/",
     "height": 235
    },
    "id": "474d3096",
    "outputId": "f067e81f-e2e8-46d3-c07a-d7e7236b0d74"
   },
   "outputs": [
    {
     "data": {
      "text/html": [
       "<table border=\"1\" class=\"dataframe\">\n",
       "  <thead>\n",
       "    <tr style=\"text-align: right;\">\n",
       "      <th></th>\n",
       "      <th>title</th>\n",
       "    </tr>\n",
       "    <tr>\n",
       "      <th>id</th>\n",
       "      <th></th>\n",
       "    </tr>\n",
       "  </thead>\n",
       "  <tbody>\n",
       "    <tr>\n",
       "      <th>c90123c0-09a2-4d0d-8ddd-447cd12edd4a</th>\n",
       "      <td>Yeezy boost 350 V2 Core Black/Ref</td>\n",
       "    </tr>\n",
       "    <tr>\n",
       "      <th>e1dc8ac7-6a89-4ef9-a790-3f4d0835aaf7</th>\n",
       "      <td>Nakamichi Sports Bluetooth Earphones</td>\n",
       "    </tr>\n",
       "    <tr>\n",
       "      <th>520743b2-6c83-4ba9-98a2-3d2fff697fa2</th>\n",
       "      <td>Tefal Steam Cuisine 900 Turbo Diffusion</td>\n",
       "    </tr>\n",
       "    <tr>\n",
       "      <th>e5136110-bd9b-4011-81f3-de904d916c91</th>\n",
       "      <td>B5 Lofter High Gain Wireless USB Adapter 1200Mbps</td>\n",
       "    </tr>\n",
       "    <tr>\n",
       "      <th>a459aa14-7e28-4a95-8c98-690509c373db</th>\n",
       "      <td>Taiwan Customize Handmade APO Float</td>\n",
       "    </tr>\n",
       "  </tbody>\n",
       "</table>"
      ],
      "text/plain": [
       "<IPython.core.display.HTML object>"
      ]
     },
     "metadata": {},
     "output_type": "display_data"
    }
   ],
   "source": [
    "display_dataframe(X_test_df.head(5))"
   ]
  },
  {
   "cell_type": "markdown",
   "id": "5445aad3",
   "metadata": {
    "id": "5445aad3"
   },
   "source": [
    "## 4.2 - Tokenize the input title"
   ]
  },
  {
   "cell_type": "markdown",
   "id": "8d242c0e",
   "metadata": {
    "id": "8d242c0e"
   },
   "source": [
    "Comments\n",
    "-----"
   ]
  },
  {
   "cell_type": "code",
   "execution_count": 13,
   "id": "96a3a580",
   "metadata": {
    "colab": {
     "base_uri": "https://localhost:8080/"
    },
    "id": "96a3a580",
    "outputId": "b7db134d-79bb-42df-d681-abea43a40c7d",
    "scrolled": true
   },
   "outputs": [
    {
     "name": "stdout",
     "output_type": "stream",
     "text": [
      "PreTrainedTokenizerFast(name_or_path='albert-base-v2', vocab_size=30000, model_max_len=512, is_fast=True, padding_side='right', special_tokens={'bos_token': '[CLS]', 'eos_token': '[SEP]', 'unk_token': '<unk>', 'sep_token': '[SEP]', 'pad_token': '<pad>', 'cls_token': '[CLS]', 'mask_token': AddedToken(\"[MASK]\", rstrip=False, lstrip=True, single_word=False, normalized=False)})\n"
     ]
    }
   ],
   "source": [
    "# Define a Tokenizer\n",
    "TOKENIZER = AutoTokenizer.from_pretrained(\"albert-base-v2\")\n",
    "\n",
    "# Display tokenizer configuration\n",
    "print(TOKENIZER)"
   ]
  },
  {
   "cell_type": "code",
   "execution_count": 14,
   "id": "2d91c485",
   "metadata": {
    "id": "2d91c485"
   },
   "outputs": [],
   "source": [
    "def tokenize_function(example, column: str=\"title\", tokenizer=TOKENIZER):\n",
    "    \"\"\"Apply the tokenizers on the text contained in row.\"\"\"\n",
    "    return tokenizer(str(example[\"title\"]))"
   ]
  },
  {
   "cell_type": "code",
   "execution_count": 15,
   "id": "3be38989",
   "metadata": {
    "colab": {
     "base_uri": "https://localhost:8080/",
     "height": 402,
     "referenced_widgets": [
      "99f4e81b843644fc9bd7c807facf7c3b",
      "fe9b2292037a4a7ea33f33944a334880",
      "1f9fb592eec741118840873ebf71e7d2",
      "7e2f59caa25649a5858860b684478ce5",
      "d91fab76a0134cd9a510ef3a32fc9637",
      "caf909dae8e44367a44fab3bd9fafc0e",
      "c92ec6a9b1e743fa88af2afa5559f6b2",
      "0490237c598c4a1092c5f6c2555e56c8",
      "30f948b0c97d4209907e80426e70a511",
      "ee06dffcd3da46fbb50d210883c87514",
      "426106b8e7a245d9a2bb544737f1f521",
      "bdaf3902a3644fa696325516de4d6029",
      "99d6ae9afef849718754c6a554bcf5c8",
      "6a592f5fec0a4d869a7fe49e2e5fe1c8",
      "7b03a3179f364a9db21d20fa2c4a9918",
      "feb9fd678e8d410aa7ab3e5c681345f6",
      "cdcd43d0feaf4994b9fa2325f20d4676",
      "a4ba616bdf744c4ba87e7cdbe2ba1746",
      "892746ebda4e4da59fbcd20db45130ff",
      "a049647bf3fd4eb2a956a8cefe8aa1ee",
      "ce253b9518274ff7ac63dbe988ea28fc",
      "936d96ba3646494688e00821c6341da4",
      "24bd389c98654869be5720961378f3bd",
      "1274169dd5f14061a89e6ed56e1e904a"
     ]
    },
    "id": "3be38989",
    "outputId": "ae1794cd-495a-43b9-b03c-a19518e79c34",
    "scrolled": false
   },
   "outputs": [
    {
     "data": {
      "application/vnd.jupyter.widget-view+json": {
       "model_id": "02826ee5654b40b4a54ec16a0a1499cd",
       "version_major": 2,
       "version_minor": 0
      },
      "text/plain": [
       "HBox(children=(FloatProgress(value=0.0, max=130222.0), HTML(value='')))"
      ]
     },
     "metadata": {},
     "output_type": "display_data"
    },
    {
     "name": "stdout",
     "output_type": "stream",
     "text": [
      "\n"
     ]
    },
    {
     "data": {
      "application/vnd.jupyter.widget-view+json": {
       "model_id": "4b05dcfb7a6b418094e9eb7928ca9299",
       "version_major": 2,
       "version_minor": 0
      },
      "text/plain": [
       "HBox(children=(FloatProgress(value=0.0, max=14470.0), HTML(value='')))"
      ]
     },
     "metadata": {},
     "output_type": "display_data"
    },
    {
     "name": "stdout",
     "output_type": "stream",
     "text": [
      "\n"
     ]
    },
    {
     "data": {
      "application/vnd.jupyter.widget-view+json": {
       "model_id": "288c2a238769426a9baa2d1784181350",
       "version_major": 2,
       "version_minor": 0
      },
      "text/plain": [
       "HBox(children=(FloatProgress(value=0.0, max=48560.0), HTML(value='')))"
      ]
     },
     "metadata": {},
     "output_type": "display_data"
    },
    {
     "name": "stdout",
     "output_type": "stream",
     "text": [
      "\n",
      "----- \u001b[1m Resulting Datasets after Tokenisation \u001b[0m -----\n",
      "Dataset({\n",
      "    features: ['attention_mask', 'id', 'input_ids', 'label', 'title', 'token_type_ids'],\n",
      "    num_rows: 130222\n",
      "})\n",
      "\n",
      " \n",
      "First Example:\n",
      "{'attention_mask': [1, 1, 1, 1, 1, 1, 1, 1, 1, 1, 1, 1],\n",
      " 'id': '8020f93b-ff12-4a47-b0db-bbac8b9c46b4',\n",
      " 'input_ids': [2, 619, 38, 38, 118, 499, 38, 18, 2510, 24666, 10366, 3],\n",
      " 'label': 7,\n",
      " 'title': 'wtt/wts supreme mercenary tee',\n",
      " 'token_type_ids': [0, 0, 0, 0, 0, 0, 0, 0, 0, 0, 0, 0]}\n"
     ]
    }
   ],
   "source": [
    "# Load the previous dataFrames as dataset\n",
    "X_train_dataset = Dataset.from_pandas(X_train_df)\n",
    "X_val_dataset = Dataset.from_pandas(X_val_df)\n",
    "X_test_dataset = Dataset.from_pandas(X_test_df)\n",
    "\n",
    "# Apply the tokenizer on our training and testing set\n",
    "X_train_tokenized_dataset = X_train_dataset.map(tokenize_function)\n",
    "X_val_tokenized_dataset = X_val_dataset.map(tokenize_function)\n",
    "X_test_tokenized_dataset = X_test_dataset.map(tokenize_function)\n",
    "\n",
    "# Display the resulting dataFrames\n",
    "display_title(\"Resulting Datasets after Tokenisation\")\n",
    "print(X_train_tokenized_dataset)\n",
    "print(\"\\n \")\n",
    "print(\"First Example:\")\n",
    "pprint.pprint(X_train_tokenized_dataset[0])"
   ]
  },
  {
   "cell_type": "code",
   "execution_count": 16,
   "id": "9788fac1",
   "metadata": {
    "id": "9788fac1"
   },
   "outputs": [],
   "source": [
    "def prepare_datasets_for_model_ingestion(\n",
    "    dataset: Dataset,\n",
    "    tokenizer=TOKENIZER,\n",
    "    mode: str=\"train\"\n",
    ") -> tf.data.Dataset:\n",
    "    \"\"\"Prepare Dataset for model ingestion.\"\"\"\n",
    "    # Convert dataset to tensor of tensorflow\n",
    "    tf_dataset = dataset.remove_columns([\"id\", \"title\"]).with_format(\"tensorflow\").select(range(20000))\n",
    "    \n",
    "    # Build training samples for tensorflow\n",
    "    if mode == \"train\":\n",
    "        tf_dataset_features = {x: tf_dataset[x].to_tensor() for x in tokenizer.model_input_names}\n",
    "        y = to_categorical(tf_dataset[\"label\"], num_classes=NUM_CLASSES)\n",
    "        #y = tf_dataset[\"label\"]\n",
    "        tf_dataset_samples = tf.data.Dataset.from_tensor_slices((tf_dataset_features, y))\n",
    "        tf_dataset_samples = tf_dataset_samples.shuffle(len(tf_dataset_samples)).batch(BATCH_SIZE)\n",
    "    \n",
    "    # Build testing samples\n",
    "    if mode == \"test\":    \n",
    "        tf_dataset_features = {x: tf_dataset[x].to_tensor() for x in tokenizer.model_input_names}\n",
    "        tf_dataset_samples = tf.data.Dataset.from_tensor_slices(tf_dataset_features)\n",
    "        tf_dataset_samples = tf_dataset_samples.shuffle(len(tf_dataset_samples)).batch(BATCH_SIZE)\n",
    "        \n",
    "    return tf_dataset_samples"
   ]
  },
  {
   "cell_type": "code",
   "execution_count": 17,
   "id": "2b04bc34",
   "metadata": {
    "id": "2b04bc34"
   },
   "outputs": [],
   "source": [
    "# Prepare datatsets for model ingestion\n",
    "train_tf = prepare_datasets_for_model_ingestion(X_train_tokenized_dataset, mode=\"train\")\n",
    "val_tf = prepare_datasets_for_model_ingestion(X_val_tokenized_dataset, mode=\"train\")\n",
    "test_tf = prepare_datasets_for_model_ingestion(X_test_tokenized_dataset, mode=\"test\")"
   ]
  },
  {
   "cell_type": "markdown",
   "id": "866ee3b5",
   "metadata": {
    "id": "866ee3b5"
   },
   "source": [
    "# 5 - Model Fine Tuning"
   ]
  },
  {
   "cell_type": "markdown",
   "id": "edcd6e0e",
   "metadata": {
    "id": "edcd6e0e"
   },
   "source": [
    "Comments\n",
    "-----"
   ]
  },
  {
   "cell_type": "markdown",
   "id": "c72ff696",
   "metadata": {
    "id": "c72ff696"
   },
   "source": [
    "## 5.1 - Load Pre-Trained Model"
   ]
  },
  {
   "cell_type": "code",
   "execution_count": 18,
   "id": "d76aad3f",
   "metadata": {
    "colab": {
     "base_uri": "https://localhost:8080/"
    },
    "id": "d76aad3f",
    "outputId": "63162597-593c-4b7f-dad2-ccc5340018a5"
   },
   "outputs": [
    {
     "name": "stderr",
     "output_type": "stream",
     "text": [
      "All model checkpoint layers were used when initializing TFAlbertForSequenceClassification.\n",
      "\n",
      "Some layers of TFAlbertForSequenceClassification were not initialized from the model checkpoint at albert-base-v2 and are newly initialized: ['classifier']\n",
      "You should probably TRAIN this model on a down-stream task to be able to use it for predictions and inference.\n"
     ]
    }
   ],
   "source": [
    "# Load a pre-trained model\n",
    "MODEL = TFAutoModelForSequenceClassification.from_pretrained(\"albert-base-v2\", num_labels=NUM_CLASSES)"
   ]
  },
  {
   "cell_type": "markdown",
   "id": "9552ea85",
   "metadata": {
    "id": "9552ea85"
   },
   "source": [
    "## 5.2 - Model Compilation"
   ]
  },
  {
   "cell_type": "code",
   "execution_count": 19,
   "id": "6e1e19ce",
   "metadata": {
    "colab": {
     "base_uri": "https://localhost:8080/"
    },
    "id": "6e1e19ce",
    "outputId": "507d0866-d6e3-447b-c44c-a79c22d141a4",
    "scrolled": false
   },
   "outputs": [
    {
     "name": "stdout",
     "output_type": "stream",
     "text": [
      "Model: \"tf_albert_for_sequence_classification\"\n",
      "_________________________________________________________________\n",
      "Layer (type)                 Output Shape              Param #   \n",
      "=================================================================\n",
      "albert (TFAlbertMainLayer)   multiple                  11683584  \n",
      "_________________________________________________________________\n",
      "dropout_4 (Dropout)          multiple                  0         \n",
      "_________________________________________________________________\n",
      "classifier (Dense)           multiple                  9997      \n",
      "=================================================================\n",
      "Total params: 11,693,581\n",
      "Trainable params: 9,997\n",
      "Non-trainable params: 11,683,584\n",
      "_________________________________________________________________\n",
      "None\n"
     ]
    }
   ],
   "source": [
    "# Compilation of the model and training\n",
    "MODEL.compile(\n",
    "    optimizer=Adam(),\n",
    "    loss=CategoricalCrossentropy(),\n",
    "    metrics=CategoricalAccuracy(), #Accuracy(),\n",
    ")\n",
    "\n",
    "# Do not train Bert layer\n",
    "for layer in MODEL.layers:\n",
    "    if layer.name == \"albert\":\n",
    "        layer.trainable = False\n",
    "\n",
    "# Print Model summary\n",
    "print(MODEL.summary())\n",
    "\n",
    "# Define Callbacks\n",
    "checkpoint_filepath = './drive/MyDrive/Carousell-Test/Logs/checkpoint-best-model-{epoch:02d}-{val_categorical_accuracy:.2f}'\n",
    "model_checkpoint_callback = ModelCheckpoint(\n",
    "    filepath=checkpoint_filepath,\n",
    "    monitor='val_categorical_accuracy',\n",
    "    mode='max',\n",
    "    save_best_only=True\n",
    ")"
   ]
  },
  {
   "cell_type": "markdown",
   "id": "970c8e0f",
   "metadata": {
    "id": "970c8e0f"
   },
   "source": [
    "## 5.3 - Model Training"
   ]
  },
  {
   "cell_type": "code",
   "execution_count": 20,
   "id": "VMI7bf_06diY",
   "metadata": {
    "colab": {
     "base_uri": "https://localhost:8080/"
    },
    "id": "VMI7bf_06diY",
    "outputId": "98993c13-30b7-43b0-bcf5-6611e76a7863"
   },
   "outputs": [
    {
     "name": "stdout",
     "output_type": "stream",
     "text": [
      "Please install the GPU version of TF or no GPU is available\n"
     ]
    }
   ],
   "source": [
    "# Check if a GPU is available\n",
    "if tf.test.gpu_device_name(): \n",
    "    print(f\"Default GPU Device: {tf.test.gpu_device_name()}\")\n",
    "else:\n",
    "    print(\"Please install the GPU version of TF or no GPU is available\")"
   ]
  },
  {
   "cell_type": "code",
   "execution_count": 21,
   "id": "37c6823b",
   "metadata": {
    "colab": {
     "base_uri": "https://localhost:8080/",
     "height": 1000
    },
    "id": "37c6823b",
    "outputId": "f46222aa-79ea-46f7-a4b1-f055d2bf3190",
    "scrolled": true
   },
   "outputs": [
    {
     "name": "stdout",
     "output_type": "stream",
     "text": [
      "WARNING:tensorflow:From /home/poreistein/.pyenv/versions/3.7.10/envs/carousell/lib/python3.7/site-packages/tensorflow/python/ops/array_ops.py:5049: calling gather (from tensorflow.python.ops.array_ops) with validate_indices is deprecated and will be removed in a future version.\n",
      "Instructions for updating:\n",
      "The `validate_indices` argument has no effect. Indices are always validated on CPU and never validated on GPU.\n",
      "Epoch 1/10\n",
      "WARNING:tensorflow:The parameters `output_attentions`, `output_hidden_states` and `use_cache` cannot be updated when calling a model.They have to be set to True/False in the config object (i.e.: `config=XConfig.from_pretrained('name', output_attentions=True)`).\n",
      "WARNING:tensorflow:AutoGraph could not transform <bound method Socket.send of <zmq.sugar.socket.Socket object at 0x7f4cc55839f0>> and will run it as-is.\n",
      "Please report this to the TensorFlow team. When filing the bug, set the verbosity to 10 (on Linux, `export AUTOGRAPH_VERBOSITY=10`) and attach the full output.\n",
      "Cause: module, class, method, function, traceback, frame, or code object was expected, got cython_function_or_method\n",
      "To silence this warning, decorate the function with @tf.autograph.experimental.do_not_convert\n",
      "WARNING: AutoGraph could not transform <bound method Socket.send of <zmq.sugar.socket.Socket object at 0x7f4cc55839f0>> and will run it as-is.\n",
      "Please report this to the TensorFlow team. When filing the bug, set the verbosity to 10 (on Linux, `export AUTOGRAPH_VERBOSITY=10`) and attach the full output.\n",
      "Cause: module, class, method, function, traceback, frame, or code object was expected, got cython_function_or_method\n",
      "To silence this warning, decorate the function with @tf.autograph.experimental.do_not_convert\n",
      "WARNING:tensorflow:The parameter `return_dict` cannot be set in graph mode and will always be set to `True`.\n",
      "WARNING:tensorflow:The parameters `output_attentions`, `output_hidden_states` and `use_cache` cannot be updated when calling a model.They have to be set to True/False in the config object (i.e.: `config=XConfig.from_pretrained('name', output_attentions=True)`).\n",
      "WARNING:tensorflow:The parameter `return_dict` cannot be set in graph mode and will always be set to `True`.\n",
      "  12/2500 [..............................] - ETA: 2:28:01 - loss: 10.8654 - categorical_accuracy: 0.1146"
     ]
    },
    {
     "ename": "KeyboardInterrupt",
     "evalue": "",
     "output_type": "error",
     "traceback": [
      "\u001b[0;31m---------------------------------------------------------------------------\u001b[0m",
      "\u001b[0;31mKeyboardInterrupt\u001b[0m                         Traceback (most recent call last)",
      "\u001b[0;32m<ipython-input-21-0682dd9195e0>\u001b[0m in \u001b[0;36m<module>\u001b[0;34m\u001b[0m\n\u001b[1;32m      5\u001b[0m     \u001b[0mverbose\u001b[0m\u001b[0;34m=\u001b[0m\u001b[0;36m1\u001b[0m\u001b[0;34m,\u001b[0m\u001b[0;34m\u001b[0m\u001b[0;34m\u001b[0m\u001b[0m\n\u001b[1;32m      6\u001b[0m     \u001b[0mclass_weight\u001b[0m\u001b[0;34m=\u001b[0m\u001b[0mCLASS_WEIGHTS_DCT\u001b[0m\u001b[0;34m,\u001b[0m\u001b[0;34m\u001b[0m\u001b[0;34m\u001b[0m\u001b[0m\n\u001b[0;32m----> 7\u001b[0;31m     \u001b[0mcallbacks\u001b[0m\u001b[0;34m=\u001b[0m\u001b[0;34m[\u001b[0m\u001b[0mmodel_checkpoint_callback\u001b[0m\u001b[0;34m]\u001b[0m\u001b[0;34m\u001b[0m\u001b[0;34m\u001b[0m\u001b[0m\n\u001b[0m\u001b[1;32m      8\u001b[0m )\n",
      "\u001b[0;32m~/.pyenv/versions/3.7.10/envs/carousell/lib/python3.7/site-packages/tensorflow/python/keras/engine/training.py\u001b[0m in \u001b[0;36mfit\u001b[0;34m(self, x, y, batch_size, epochs, verbose, callbacks, validation_split, validation_data, shuffle, class_weight, sample_weight, initial_epoch, steps_per_epoch, validation_steps, validation_batch_size, validation_freq, max_queue_size, workers, use_multiprocessing)\u001b[0m\n\u001b[1;32m   1181\u001b[0m                 _r=1):\n\u001b[1;32m   1182\u001b[0m               \u001b[0mcallbacks\u001b[0m\u001b[0;34m.\u001b[0m\u001b[0mon_train_batch_begin\u001b[0m\u001b[0;34m(\u001b[0m\u001b[0mstep\u001b[0m\u001b[0;34m)\u001b[0m\u001b[0;34m\u001b[0m\u001b[0;34m\u001b[0m\u001b[0m\n\u001b[0;32m-> 1183\u001b[0;31m               \u001b[0mtmp_logs\u001b[0m \u001b[0;34m=\u001b[0m \u001b[0mself\u001b[0m\u001b[0;34m.\u001b[0m\u001b[0mtrain_function\u001b[0m\u001b[0;34m(\u001b[0m\u001b[0miterator\u001b[0m\u001b[0;34m)\u001b[0m\u001b[0;34m\u001b[0m\u001b[0;34m\u001b[0m\u001b[0m\n\u001b[0m\u001b[1;32m   1184\u001b[0m               \u001b[0;32mif\u001b[0m \u001b[0mdata_handler\u001b[0m\u001b[0;34m.\u001b[0m\u001b[0mshould_sync\u001b[0m\u001b[0;34m:\u001b[0m\u001b[0;34m\u001b[0m\u001b[0;34m\u001b[0m\u001b[0m\n\u001b[1;32m   1185\u001b[0m                 \u001b[0mcontext\u001b[0m\u001b[0;34m.\u001b[0m\u001b[0masync_wait\u001b[0m\u001b[0;34m(\u001b[0m\u001b[0;34m)\u001b[0m\u001b[0;34m\u001b[0m\u001b[0;34m\u001b[0m\u001b[0m\n",
      "\u001b[0;32m~/.pyenv/versions/3.7.10/envs/carousell/lib/python3.7/site-packages/tensorflow/python/eager/def_function.py\u001b[0m in \u001b[0;36m__call__\u001b[0;34m(self, *args, **kwds)\u001b[0m\n\u001b[1;32m    887\u001b[0m \u001b[0;34m\u001b[0m\u001b[0m\n\u001b[1;32m    888\u001b[0m       \u001b[0;32mwith\u001b[0m \u001b[0mOptionalXlaContext\u001b[0m\u001b[0;34m(\u001b[0m\u001b[0mself\u001b[0m\u001b[0;34m.\u001b[0m\u001b[0m_jit_compile\u001b[0m\u001b[0;34m)\u001b[0m\u001b[0;34m:\u001b[0m\u001b[0;34m\u001b[0m\u001b[0;34m\u001b[0m\u001b[0m\n\u001b[0;32m--> 889\u001b[0;31m         \u001b[0mresult\u001b[0m \u001b[0;34m=\u001b[0m \u001b[0mself\u001b[0m\u001b[0;34m.\u001b[0m\u001b[0m_call\u001b[0m\u001b[0;34m(\u001b[0m\u001b[0;34m*\u001b[0m\u001b[0margs\u001b[0m\u001b[0;34m,\u001b[0m \u001b[0;34m**\u001b[0m\u001b[0mkwds\u001b[0m\u001b[0;34m)\u001b[0m\u001b[0;34m\u001b[0m\u001b[0;34m\u001b[0m\u001b[0m\n\u001b[0m\u001b[1;32m    890\u001b[0m \u001b[0;34m\u001b[0m\u001b[0m\n\u001b[1;32m    891\u001b[0m       \u001b[0mnew_tracing_count\u001b[0m \u001b[0;34m=\u001b[0m \u001b[0mself\u001b[0m\u001b[0;34m.\u001b[0m\u001b[0mexperimental_get_tracing_count\u001b[0m\u001b[0;34m(\u001b[0m\u001b[0;34m)\u001b[0m\u001b[0;34m\u001b[0m\u001b[0;34m\u001b[0m\u001b[0m\n",
      "\u001b[0;32m~/.pyenv/versions/3.7.10/envs/carousell/lib/python3.7/site-packages/tensorflow/python/eager/def_function.py\u001b[0m in \u001b[0;36m_call\u001b[0;34m(self, *args, **kwds)\u001b[0m\n\u001b[1;32m    915\u001b[0m       \u001b[0;31m# In this case we have created variables on the first call, so we run the\u001b[0m\u001b[0;34m\u001b[0m\u001b[0;34m\u001b[0m\u001b[0;34m\u001b[0m\u001b[0m\n\u001b[1;32m    916\u001b[0m       \u001b[0;31m# defunned version which is guaranteed to never create variables.\u001b[0m\u001b[0;34m\u001b[0m\u001b[0;34m\u001b[0m\u001b[0;34m\u001b[0m\u001b[0m\n\u001b[0;32m--> 917\u001b[0;31m       \u001b[0;32mreturn\u001b[0m \u001b[0mself\u001b[0m\u001b[0;34m.\u001b[0m\u001b[0m_stateless_fn\u001b[0m\u001b[0;34m(\u001b[0m\u001b[0;34m*\u001b[0m\u001b[0margs\u001b[0m\u001b[0;34m,\u001b[0m \u001b[0;34m**\u001b[0m\u001b[0mkwds\u001b[0m\u001b[0;34m)\u001b[0m  \u001b[0;31m# pylint: disable=not-callable\u001b[0m\u001b[0;34m\u001b[0m\u001b[0;34m\u001b[0m\u001b[0m\n\u001b[0m\u001b[1;32m    918\u001b[0m     \u001b[0;32melif\u001b[0m \u001b[0mself\u001b[0m\u001b[0;34m.\u001b[0m\u001b[0m_stateful_fn\u001b[0m \u001b[0;32mis\u001b[0m \u001b[0;32mnot\u001b[0m \u001b[0;32mNone\u001b[0m\u001b[0;34m:\u001b[0m\u001b[0;34m\u001b[0m\u001b[0;34m\u001b[0m\u001b[0m\n\u001b[1;32m    919\u001b[0m       \u001b[0;31m# Release the lock early so that multiple threads can perform the call\u001b[0m\u001b[0;34m\u001b[0m\u001b[0;34m\u001b[0m\u001b[0;34m\u001b[0m\u001b[0m\n",
      "\u001b[0;32m~/.pyenv/versions/3.7.10/envs/carousell/lib/python3.7/site-packages/tensorflow/python/eager/function.py\u001b[0m in \u001b[0;36m__call__\u001b[0;34m(self, *args, **kwargs)\u001b[0m\n\u001b[1;32m   3022\u001b[0m        filtered_flat_args) = self._maybe_define_function(args, kwargs)\n\u001b[1;32m   3023\u001b[0m     return graph_function._call_flat(\n\u001b[0;32m-> 3024\u001b[0;31m         filtered_flat_args, captured_inputs=graph_function.captured_inputs)  # pylint: disable=protected-access\n\u001b[0m\u001b[1;32m   3025\u001b[0m \u001b[0;34m\u001b[0m\u001b[0m\n\u001b[1;32m   3026\u001b[0m   \u001b[0;34m@\u001b[0m\u001b[0mproperty\u001b[0m\u001b[0;34m\u001b[0m\u001b[0;34m\u001b[0m\u001b[0m\n",
      "\u001b[0;32m~/.pyenv/versions/3.7.10/envs/carousell/lib/python3.7/site-packages/tensorflow/python/eager/function.py\u001b[0m in \u001b[0;36m_call_flat\u001b[0;34m(self, args, captured_inputs, cancellation_manager)\u001b[0m\n\u001b[1;32m   1959\u001b[0m       \u001b[0;31m# No tape is watching; skip to running the function.\u001b[0m\u001b[0;34m\u001b[0m\u001b[0;34m\u001b[0m\u001b[0;34m\u001b[0m\u001b[0m\n\u001b[1;32m   1960\u001b[0m       return self._build_call_outputs(self._inference_function.call(\n\u001b[0;32m-> 1961\u001b[0;31m           ctx, args, cancellation_manager=cancellation_manager))\n\u001b[0m\u001b[1;32m   1962\u001b[0m     forward_backward = self._select_forward_and_backward_functions(\n\u001b[1;32m   1963\u001b[0m         \u001b[0margs\u001b[0m\u001b[0;34m,\u001b[0m\u001b[0;34m\u001b[0m\u001b[0;34m\u001b[0m\u001b[0m\n",
      "\u001b[0;32m~/.pyenv/versions/3.7.10/envs/carousell/lib/python3.7/site-packages/tensorflow/python/eager/function.py\u001b[0m in \u001b[0;36mcall\u001b[0;34m(self, ctx, args, cancellation_manager)\u001b[0m\n\u001b[1;32m    594\u001b[0m               \u001b[0minputs\u001b[0m\u001b[0;34m=\u001b[0m\u001b[0margs\u001b[0m\u001b[0;34m,\u001b[0m\u001b[0;34m\u001b[0m\u001b[0;34m\u001b[0m\u001b[0m\n\u001b[1;32m    595\u001b[0m               \u001b[0mattrs\u001b[0m\u001b[0;34m=\u001b[0m\u001b[0mattrs\u001b[0m\u001b[0;34m,\u001b[0m\u001b[0;34m\u001b[0m\u001b[0;34m\u001b[0m\u001b[0m\n\u001b[0;32m--> 596\u001b[0;31m               ctx=ctx)\n\u001b[0m\u001b[1;32m    597\u001b[0m         \u001b[0;32melse\u001b[0m\u001b[0;34m:\u001b[0m\u001b[0;34m\u001b[0m\u001b[0;34m\u001b[0m\u001b[0m\n\u001b[1;32m    598\u001b[0m           outputs = execute.execute_with_cancellation(\n",
      "\u001b[0;32m~/.pyenv/versions/3.7.10/envs/carousell/lib/python3.7/site-packages/tensorflow/python/eager/execute.py\u001b[0m in \u001b[0;36mquick_execute\u001b[0;34m(op_name, num_outputs, inputs, attrs, ctx, name)\u001b[0m\n\u001b[1;32m     58\u001b[0m     \u001b[0mctx\u001b[0m\u001b[0;34m.\u001b[0m\u001b[0mensure_initialized\u001b[0m\u001b[0;34m(\u001b[0m\u001b[0;34m)\u001b[0m\u001b[0;34m\u001b[0m\u001b[0;34m\u001b[0m\u001b[0m\n\u001b[1;32m     59\u001b[0m     tensors = pywrap_tfe.TFE_Py_Execute(ctx._handle, device_name, op_name,\n\u001b[0;32m---> 60\u001b[0;31m                                         inputs, attrs, num_outputs)\n\u001b[0m\u001b[1;32m     61\u001b[0m   \u001b[0;32mexcept\u001b[0m \u001b[0mcore\u001b[0m\u001b[0;34m.\u001b[0m\u001b[0m_NotOkStatusException\u001b[0m \u001b[0;32mas\u001b[0m \u001b[0me\u001b[0m\u001b[0;34m:\u001b[0m\u001b[0;34m\u001b[0m\u001b[0;34m\u001b[0m\u001b[0m\n\u001b[1;32m     62\u001b[0m     \u001b[0;32mif\u001b[0m \u001b[0mname\u001b[0m \u001b[0;32mis\u001b[0m \u001b[0;32mnot\u001b[0m \u001b[0;32mNone\u001b[0m\u001b[0;34m:\u001b[0m\u001b[0;34m\u001b[0m\u001b[0;34m\u001b[0m\u001b[0m\n",
      "\u001b[0;31mKeyboardInterrupt\u001b[0m: "
     ]
    }
   ],
   "source": [
    "MODEL.fit(\n",
    "    train_tf,\n",
    "    validation_data=val_tf,\n",
    "    epochs=EPOCHS,\n",
    "    verbose=1,\n",
    "    class_weight=CLASS_WEIGHTS_DCT,\n",
    "    callbacks=[model_checkpoint_callback]\n",
    ")"
   ]
  },
  {
   "cell_type": "markdown",
   "id": "5406eb1b",
   "metadata": {
    "id": "58930f01"
   },
   "source": [
    "Comments\n",
    "-----\n",
    "\n",
    "Despite using a GPU, my ressources were too limited to train a transformer. That is why I switched to a simpler model based on TF-IDF"
   ]
  },
  {
   "cell_type": "code",
   "execution_count": null,
   "id": "CKdpXG_l6Xt9",
   "metadata": {
    "id": "CKdpXG_l6Xt9"
   },
   "outputs": [],
   "source": []
  }
 ],
 "metadata": {
  "accelerator": "GPU",
  "colab": {
   "name": "2-MODEL-DEVELOPMENT-AND-TRAINING.ipynb",
   "provenance": []
  },
  "kernelspec": {
   "display_name": "Python 3",
   "language": "python",
   "name": "python3"
  },
  "language_info": {
   "codemirror_mode": {
    "name": "ipython",
    "version": 3
   },
   "file_extension": ".py",
   "mimetype": "text/x-python",
   "name": "python",
   "nbconvert_exporter": "python",
   "pygments_lexer": "ipython3",
   "version": "3.7.10"
  },
  "widgets": {
   "application/vnd.jupyter.widget-state+json": {
    "0490237c598c4a1092c5f6c2555e56c8": {
     "model_module": "@jupyter-widgets/base",
     "model_name": "LayoutModel",
     "state": {
      "_model_module": "@jupyter-widgets/base",
      "_model_module_version": "1.2.0",
      "_model_name": "LayoutModel",
      "_view_count": null,
      "_view_module": "@jupyter-widgets/base",
      "_view_module_version": "1.2.0",
      "_view_name": "LayoutView",
      "align_content": null,
      "align_items": null,
      "align_self": null,
      "border": null,
      "bottom": null,
      "display": null,
      "flex": null,
      "flex_flow": null,
      "grid_area": null,
      "grid_auto_columns": null,
      "grid_auto_flow": null,
      "grid_auto_rows": null,
      "grid_column": null,
      "grid_gap": null,
      "grid_row": null,
      "grid_template_areas": null,
      "grid_template_columns": null,
      "grid_template_rows": null,
      "height": null,
      "justify_content": null,
      "justify_items": null,
      "left": null,
      "margin": null,
      "max_height": null,
      "max_width": null,
      "min_height": null,
      "min_width": null,
      "object_fit": null,
      "object_position": null,
      "order": null,
      "overflow": null,
      "overflow_x": null,
      "overflow_y": null,
      "padding": null,
      "right": null,
      "top": null,
      "visibility": null,
      "width": null
     }
    },
    "1274169dd5f14061a89e6ed56e1e904a": {
     "model_module": "@jupyter-widgets/base",
     "model_name": "LayoutModel",
     "state": {
      "_model_module": "@jupyter-widgets/base",
      "_model_module_version": "1.2.0",
      "_model_name": "LayoutModel",
      "_view_count": null,
      "_view_module": "@jupyter-widgets/base",
      "_view_module_version": "1.2.0",
      "_view_name": "LayoutView",
      "align_content": null,
      "align_items": null,
      "align_self": null,
      "border": null,
      "bottom": null,
      "display": null,
      "flex": null,
      "flex_flow": null,
      "grid_area": null,
      "grid_auto_columns": null,
      "grid_auto_flow": null,
      "grid_auto_rows": null,
      "grid_column": null,
      "grid_gap": null,
      "grid_row": null,
      "grid_template_areas": null,
      "grid_template_columns": null,
      "grid_template_rows": null,
      "height": null,
      "justify_content": null,
      "justify_items": null,
      "left": null,
      "margin": null,
      "max_height": null,
      "max_width": null,
      "min_height": null,
      "min_width": null,
      "object_fit": null,
      "object_position": null,
      "order": null,
      "overflow": null,
      "overflow_x": null,
      "overflow_y": null,
      "padding": null,
      "right": null,
      "top": null,
      "visibility": null,
      "width": null
     }
    },
    "1f9fb592eec741118840873ebf71e7d2": {
     "model_module": "@jupyter-widgets/controls",
     "model_name": "FloatProgressModel",
     "state": {
      "_dom_classes": [],
      "_model_module": "@jupyter-widgets/controls",
      "_model_module_version": "1.5.0",
      "_model_name": "FloatProgressModel",
      "_view_count": null,
      "_view_module": "@jupyter-widgets/controls",
      "_view_module_version": "1.5.0",
      "_view_name": "ProgressView",
      "bar_style": "success",
      "description": "100%",
      "description_tooltip": null,
      "layout": "IPY_MODEL_caf909dae8e44367a44fab3bd9fafc0e",
      "max": 130222,
      "min": 0,
      "orientation": "horizontal",
      "style": "IPY_MODEL_d91fab76a0134cd9a510ef3a32fc9637",
      "value": 130222
     }
    },
    "24bd389c98654869be5720961378f3bd": {
     "model_module": "@jupyter-widgets/controls",
     "model_name": "DescriptionStyleModel",
     "state": {
      "_model_module": "@jupyter-widgets/controls",
      "_model_module_version": "1.5.0",
      "_model_name": "DescriptionStyleModel",
      "_view_count": null,
      "_view_module": "@jupyter-widgets/base",
      "_view_module_version": "1.2.0",
      "_view_name": "StyleView",
      "description_width": ""
     }
    },
    "30f948b0c97d4209907e80426e70a511": {
     "model_module": "@jupyter-widgets/controls",
     "model_name": "HBoxModel",
     "state": {
      "_dom_classes": [],
      "_model_module": "@jupyter-widgets/controls",
      "_model_module_version": "1.5.0",
      "_model_name": "HBoxModel",
      "_view_count": null,
      "_view_module": "@jupyter-widgets/controls",
      "_view_module_version": "1.5.0",
      "_view_name": "HBoxView",
      "box_style": "",
      "children": [
       "IPY_MODEL_426106b8e7a245d9a2bb544737f1f521",
       "IPY_MODEL_bdaf3902a3644fa696325516de4d6029"
      ],
      "layout": "IPY_MODEL_ee06dffcd3da46fbb50d210883c87514"
     }
    },
    "426106b8e7a245d9a2bb544737f1f521": {
     "model_module": "@jupyter-widgets/controls",
     "model_name": "FloatProgressModel",
     "state": {
      "_dom_classes": [],
      "_model_module": "@jupyter-widgets/controls",
      "_model_module_version": "1.5.0",
      "_model_name": "FloatProgressModel",
      "_view_count": null,
      "_view_module": "@jupyter-widgets/controls",
      "_view_module_version": "1.5.0",
      "_view_name": "ProgressView",
      "bar_style": "success",
      "description": "100%",
      "description_tooltip": null,
      "layout": "IPY_MODEL_6a592f5fec0a4d869a7fe49e2e5fe1c8",
      "max": 14470,
      "min": 0,
      "orientation": "horizontal",
      "style": "IPY_MODEL_99d6ae9afef849718754c6a554bcf5c8",
      "value": 14470
     }
    },
    "6a592f5fec0a4d869a7fe49e2e5fe1c8": {
     "model_module": "@jupyter-widgets/base",
     "model_name": "LayoutModel",
     "state": {
      "_model_module": "@jupyter-widgets/base",
      "_model_module_version": "1.2.0",
      "_model_name": "LayoutModel",
      "_view_count": null,
      "_view_module": "@jupyter-widgets/base",
      "_view_module_version": "1.2.0",
      "_view_name": "LayoutView",
      "align_content": null,
      "align_items": null,
      "align_self": null,
      "border": null,
      "bottom": null,
      "display": null,
      "flex": null,
      "flex_flow": null,
      "grid_area": null,
      "grid_auto_columns": null,
      "grid_auto_flow": null,
      "grid_auto_rows": null,
      "grid_column": null,
      "grid_gap": null,
      "grid_row": null,
      "grid_template_areas": null,
      "grid_template_columns": null,
      "grid_template_rows": null,
      "height": null,
      "justify_content": null,
      "justify_items": null,
      "left": null,
      "margin": null,
      "max_height": null,
      "max_width": null,
      "min_height": null,
      "min_width": null,
      "object_fit": null,
      "object_position": null,
      "order": null,
      "overflow": null,
      "overflow_x": null,
      "overflow_y": null,
      "padding": null,
      "right": null,
      "top": null,
      "visibility": null,
      "width": null
     }
    },
    "7b03a3179f364a9db21d20fa2c4a9918": {
     "model_module": "@jupyter-widgets/controls",
     "model_name": "DescriptionStyleModel",
     "state": {
      "_model_module": "@jupyter-widgets/controls",
      "_model_module_version": "1.5.0",
      "_model_name": "DescriptionStyleModel",
      "_view_count": null,
      "_view_module": "@jupyter-widgets/base",
      "_view_module_version": "1.2.0",
      "_view_name": "StyleView",
      "description_width": ""
     }
    },
    "7e2f59caa25649a5858860b684478ce5": {
     "model_module": "@jupyter-widgets/controls",
     "model_name": "HTMLModel",
     "state": {
      "_dom_classes": [],
      "_model_module": "@jupyter-widgets/controls",
      "_model_module_version": "1.5.0",
      "_model_name": "HTMLModel",
      "_view_count": null,
      "_view_module": "@jupyter-widgets/controls",
      "_view_module_version": "1.5.0",
      "_view_name": "HTMLView",
      "description": "",
      "description_tooltip": null,
      "layout": "IPY_MODEL_0490237c598c4a1092c5f6c2555e56c8",
      "placeholder": "​",
      "style": "IPY_MODEL_c92ec6a9b1e743fa88af2afa5559f6b2",
      "value": " 130222/130222 [00:51&lt;00:00, 2509.35ex/s]"
     }
    },
    "892746ebda4e4da59fbcd20db45130ff": {
     "model_module": "@jupyter-widgets/controls",
     "model_name": "FloatProgressModel",
     "state": {
      "_dom_classes": [],
      "_model_module": "@jupyter-widgets/controls",
      "_model_module_version": "1.5.0",
      "_model_name": "FloatProgressModel",
      "_view_count": null,
      "_view_module": "@jupyter-widgets/controls",
      "_view_module_version": "1.5.0",
      "_view_name": "ProgressView",
      "bar_style": "success",
      "description": "100%",
      "description_tooltip": null,
      "layout": "IPY_MODEL_936d96ba3646494688e00821c6341da4",
      "max": 48560,
      "min": 0,
      "orientation": "horizontal",
      "style": "IPY_MODEL_ce253b9518274ff7ac63dbe988ea28fc",
      "value": 48560
     }
    },
    "936d96ba3646494688e00821c6341da4": {
     "model_module": "@jupyter-widgets/base",
     "model_name": "LayoutModel",
     "state": {
      "_model_module": "@jupyter-widgets/base",
      "_model_module_version": "1.2.0",
      "_model_name": "LayoutModel",
      "_view_count": null,
      "_view_module": "@jupyter-widgets/base",
      "_view_module_version": "1.2.0",
      "_view_name": "LayoutView",
      "align_content": null,
      "align_items": null,
      "align_self": null,
      "border": null,
      "bottom": null,
      "display": null,
      "flex": null,
      "flex_flow": null,
      "grid_area": null,
      "grid_auto_columns": null,
      "grid_auto_flow": null,
      "grid_auto_rows": null,
      "grid_column": null,
      "grid_gap": null,
      "grid_row": null,
      "grid_template_areas": null,
      "grid_template_columns": null,
      "grid_template_rows": null,
      "height": null,
      "justify_content": null,
      "justify_items": null,
      "left": null,
      "margin": null,
      "max_height": null,
      "max_width": null,
      "min_height": null,
      "min_width": null,
      "object_fit": null,
      "object_position": null,
      "order": null,
      "overflow": null,
      "overflow_x": null,
      "overflow_y": null,
      "padding": null,
      "right": null,
      "top": null,
      "visibility": null,
      "width": null
     }
    },
    "99d6ae9afef849718754c6a554bcf5c8": {
     "model_module": "@jupyter-widgets/controls",
     "model_name": "ProgressStyleModel",
     "state": {
      "_model_module": "@jupyter-widgets/controls",
      "_model_module_version": "1.5.0",
      "_model_name": "ProgressStyleModel",
      "_view_count": null,
      "_view_module": "@jupyter-widgets/base",
      "_view_module_version": "1.2.0",
      "_view_name": "StyleView",
      "bar_color": null,
      "description_width": "initial"
     }
    },
    "99f4e81b843644fc9bd7c807facf7c3b": {
     "model_module": "@jupyter-widgets/controls",
     "model_name": "HBoxModel",
     "state": {
      "_dom_classes": [],
      "_model_module": "@jupyter-widgets/controls",
      "_model_module_version": "1.5.0",
      "_model_name": "HBoxModel",
      "_view_count": null,
      "_view_module": "@jupyter-widgets/controls",
      "_view_module_version": "1.5.0",
      "_view_name": "HBoxView",
      "box_style": "",
      "children": [
       "IPY_MODEL_1f9fb592eec741118840873ebf71e7d2",
       "IPY_MODEL_7e2f59caa25649a5858860b684478ce5"
      ],
      "layout": "IPY_MODEL_fe9b2292037a4a7ea33f33944a334880"
     }
    },
    "a049647bf3fd4eb2a956a8cefe8aa1ee": {
     "model_module": "@jupyter-widgets/controls",
     "model_name": "HTMLModel",
     "state": {
      "_dom_classes": [],
      "_model_module": "@jupyter-widgets/controls",
      "_model_module_version": "1.5.0",
      "_model_name": "HTMLModel",
      "_view_count": null,
      "_view_module": "@jupyter-widgets/controls",
      "_view_module_version": "1.5.0",
      "_view_name": "HTMLView",
      "description": "",
      "description_tooltip": null,
      "layout": "IPY_MODEL_1274169dd5f14061a89e6ed56e1e904a",
      "placeholder": "​",
      "style": "IPY_MODEL_24bd389c98654869be5720961378f3bd",
      "value": " 48560/48560 [00:19&lt;00:00, 2540.98ex/s]"
     }
    },
    "a4ba616bdf744c4ba87e7cdbe2ba1746": {
     "model_module": "@jupyter-widgets/base",
     "model_name": "LayoutModel",
     "state": {
      "_model_module": "@jupyter-widgets/base",
      "_model_module_version": "1.2.0",
      "_model_name": "LayoutModel",
      "_view_count": null,
      "_view_module": "@jupyter-widgets/base",
      "_view_module_version": "1.2.0",
      "_view_name": "LayoutView",
      "align_content": null,
      "align_items": null,
      "align_self": null,
      "border": null,
      "bottom": null,
      "display": null,
      "flex": null,
      "flex_flow": null,
      "grid_area": null,
      "grid_auto_columns": null,
      "grid_auto_flow": null,
      "grid_auto_rows": null,
      "grid_column": null,
      "grid_gap": null,
      "grid_row": null,
      "grid_template_areas": null,
      "grid_template_columns": null,
      "grid_template_rows": null,
      "height": null,
      "justify_content": null,
      "justify_items": null,
      "left": null,
      "margin": null,
      "max_height": null,
      "max_width": null,
      "min_height": null,
      "min_width": null,
      "object_fit": null,
      "object_position": null,
      "order": null,
      "overflow": null,
      "overflow_x": null,
      "overflow_y": null,
      "padding": null,
      "right": null,
      "top": null,
      "visibility": null,
      "width": null
     }
    },
    "bdaf3902a3644fa696325516de4d6029": {
     "model_module": "@jupyter-widgets/controls",
     "model_name": "HTMLModel",
     "state": {
      "_dom_classes": [],
      "_model_module": "@jupyter-widgets/controls",
      "_model_module_version": "1.5.0",
      "_model_name": "HTMLModel",
      "_view_count": null,
      "_view_module": "@jupyter-widgets/controls",
      "_view_module_version": "1.5.0",
      "_view_name": "HTMLView",
      "description": "",
      "description_tooltip": null,
      "layout": "IPY_MODEL_feb9fd678e8d410aa7ab3e5c681345f6",
      "placeholder": "​",
      "style": "IPY_MODEL_7b03a3179f364a9db21d20fa2c4a9918",
      "value": " 14470/14470 [00:09&lt;00:00, 1476.17ex/s]"
     }
    },
    "c92ec6a9b1e743fa88af2afa5559f6b2": {
     "model_module": "@jupyter-widgets/controls",
     "model_name": "DescriptionStyleModel",
     "state": {
      "_model_module": "@jupyter-widgets/controls",
      "_model_module_version": "1.5.0",
      "_model_name": "DescriptionStyleModel",
      "_view_count": null,
      "_view_module": "@jupyter-widgets/base",
      "_view_module_version": "1.2.0",
      "_view_name": "StyleView",
      "description_width": ""
     }
    },
    "caf909dae8e44367a44fab3bd9fafc0e": {
     "model_module": "@jupyter-widgets/base",
     "model_name": "LayoutModel",
     "state": {
      "_model_module": "@jupyter-widgets/base",
      "_model_module_version": "1.2.0",
      "_model_name": "LayoutModel",
      "_view_count": null,
      "_view_module": "@jupyter-widgets/base",
      "_view_module_version": "1.2.0",
      "_view_name": "LayoutView",
      "align_content": null,
      "align_items": null,
      "align_self": null,
      "border": null,
      "bottom": null,
      "display": null,
      "flex": null,
      "flex_flow": null,
      "grid_area": null,
      "grid_auto_columns": null,
      "grid_auto_flow": null,
      "grid_auto_rows": null,
      "grid_column": null,
      "grid_gap": null,
      "grid_row": null,
      "grid_template_areas": null,
      "grid_template_columns": null,
      "grid_template_rows": null,
      "height": null,
      "justify_content": null,
      "justify_items": null,
      "left": null,
      "margin": null,
      "max_height": null,
      "max_width": null,
      "min_height": null,
      "min_width": null,
      "object_fit": null,
      "object_position": null,
      "order": null,
      "overflow": null,
      "overflow_x": null,
      "overflow_y": null,
      "padding": null,
      "right": null,
      "top": null,
      "visibility": null,
      "width": null
     }
    },
    "cdcd43d0feaf4994b9fa2325f20d4676": {
     "model_module": "@jupyter-widgets/controls",
     "model_name": "HBoxModel",
     "state": {
      "_dom_classes": [],
      "_model_module": "@jupyter-widgets/controls",
      "_model_module_version": "1.5.0",
      "_model_name": "HBoxModel",
      "_view_count": null,
      "_view_module": "@jupyter-widgets/controls",
      "_view_module_version": "1.5.0",
      "_view_name": "HBoxView",
      "box_style": "",
      "children": [
       "IPY_MODEL_892746ebda4e4da59fbcd20db45130ff",
       "IPY_MODEL_a049647bf3fd4eb2a956a8cefe8aa1ee"
      ],
      "layout": "IPY_MODEL_a4ba616bdf744c4ba87e7cdbe2ba1746"
     }
    },
    "ce253b9518274ff7ac63dbe988ea28fc": {
     "model_module": "@jupyter-widgets/controls",
     "model_name": "ProgressStyleModel",
     "state": {
      "_model_module": "@jupyter-widgets/controls",
      "_model_module_version": "1.5.0",
      "_model_name": "ProgressStyleModel",
      "_view_count": null,
      "_view_module": "@jupyter-widgets/base",
      "_view_module_version": "1.2.0",
      "_view_name": "StyleView",
      "bar_color": null,
      "description_width": "initial"
     }
    },
    "d91fab76a0134cd9a510ef3a32fc9637": {
     "model_module": "@jupyter-widgets/controls",
     "model_name": "ProgressStyleModel",
     "state": {
      "_model_module": "@jupyter-widgets/controls",
      "_model_module_version": "1.5.0",
      "_model_name": "ProgressStyleModel",
      "_view_count": null,
      "_view_module": "@jupyter-widgets/base",
      "_view_module_version": "1.2.0",
      "_view_name": "StyleView",
      "bar_color": null,
      "description_width": "initial"
     }
    },
    "ee06dffcd3da46fbb50d210883c87514": {
     "model_module": "@jupyter-widgets/base",
     "model_name": "LayoutModel",
     "state": {
      "_model_module": "@jupyter-widgets/base",
      "_model_module_version": "1.2.0",
      "_model_name": "LayoutModel",
      "_view_count": null,
      "_view_module": "@jupyter-widgets/base",
      "_view_module_version": "1.2.0",
      "_view_name": "LayoutView",
      "align_content": null,
      "align_items": null,
      "align_self": null,
      "border": null,
      "bottom": null,
      "display": null,
      "flex": null,
      "flex_flow": null,
      "grid_area": null,
      "grid_auto_columns": null,
      "grid_auto_flow": null,
      "grid_auto_rows": null,
      "grid_column": null,
      "grid_gap": null,
      "grid_row": null,
      "grid_template_areas": null,
      "grid_template_columns": null,
      "grid_template_rows": null,
      "height": null,
      "justify_content": null,
      "justify_items": null,
      "left": null,
      "margin": null,
      "max_height": null,
      "max_width": null,
      "min_height": null,
      "min_width": null,
      "object_fit": null,
      "object_position": null,
      "order": null,
      "overflow": null,
      "overflow_x": null,
      "overflow_y": null,
      "padding": null,
      "right": null,
      "top": null,
      "visibility": null,
      "width": null
     }
    },
    "fe9b2292037a4a7ea33f33944a334880": {
     "model_module": "@jupyter-widgets/base",
     "model_name": "LayoutModel",
     "state": {
      "_model_module": "@jupyter-widgets/base",
      "_model_module_version": "1.2.0",
      "_model_name": "LayoutModel",
      "_view_count": null,
      "_view_module": "@jupyter-widgets/base",
      "_view_module_version": "1.2.0",
      "_view_name": "LayoutView",
      "align_content": null,
      "align_items": null,
      "align_self": null,
      "border": null,
      "bottom": null,
      "display": null,
      "flex": null,
      "flex_flow": null,
      "grid_area": null,
      "grid_auto_columns": null,
      "grid_auto_flow": null,
      "grid_auto_rows": null,
      "grid_column": null,
      "grid_gap": null,
      "grid_row": null,
      "grid_template_areas": null,
      "grid_template_columns": null,
      "grid_template_rows": null,
      "height": null,
      "justify_content": null,
      "justify_items": null,
      "left": null,
      "margin": null,
      "max_height": null,
      "max_width": null,
      "min_height": null,
      "min_width": null,
      "object_fit": null,
      "object_position": null,
      "order": null,
      "overflow": null,
      "overflow_x": null,
      "overflow_y": null,
      "padding": null,
      "right": null,
      "top": null,
      "visibility": null,
      "width": null
     }
    },
    "feb9fd678e8d410aa7ab3e5c681345f6": {
     "model_module": "@jupyter-widgets/base",
     "model_name": "LayoutModel",
     "state": {
      "_model_module": "@jupyter-widgets/base",
      "_model_module_version": "1.2.0",
      "_model_name": "LayoutModel",
      "_view_count": null,
      "_view_module": "@jupyter-widgets/base",
      "_view_module_version": "1.2.0",
      "_view_name": "LayoutView",
      "align_content": null,
      "align_items": null,
      "align_self": null,
      "border": null,
      "bottom": null,
      "display": null,
      "flex": null,
      "flex_flow": null,
      "grid_area": null,
      "grid_auto_columns": null,
      "grid_auto_flow": null,
      "grid_auto_rows": null,
      "grid_column": null,
      "grid_gap": null,
      "grid_row": null,
      "grid_template_areas": null,
      "grid_template_columns": null,
      "grid_template_rows": null,
      "height": null,
      "justify_content": null,
      "justify_items": null,
      "left": null,
      "margin": null,
      "max_height": null,
      "max_width": null,
      "min_height": null,
      "min_width": null,
      "object_fit": null,
      "object_position": null,
      "order": null,
      "overflow": null,
      "overflow_x": null,
      "overflow_y": null,
      "padding": null,
      "right": null,
      "top": null,
      "visibility": null,
      "width": null
     }
    }
   }
  }
 },
 "nbformat": 4,
 "nbformat_minor": 5
}
