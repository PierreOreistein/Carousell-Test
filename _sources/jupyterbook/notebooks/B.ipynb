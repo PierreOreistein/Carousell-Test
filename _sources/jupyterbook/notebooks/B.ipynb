{
 "cells": [
  {
   "cell_type": "markdown",
   "id": "30c79afa",
   "metadata": {},
   "source": [
    "# 0 - Information"
   ]
  },
  {
   "cell_type": "code",
   "execution_count": 1,
   "id": "3894c2c2",
   "metadata": {},
   "outputs": [],
   "source": [
    "# Author: Pierre Oreistein\n",
    "# Last edit: 06/06/2021"
   ]
  },
  {
   "cell_type": "markdown",
   "id": "ff3f5202",
   "metadata": {},
   "source": [
    "# 1 - Packages"
   ]
  },
  {
   "cell_type": "markdown",
   "id": "f5ed613f",
   "metadata": {},
   "source": [
    "## 1.1 - Mainstream Packages"
   ]
  },
  {
   "cell_type": "code",
   "execution_count": 103,
   "id": "5f99c4f4",
   "metadata": {},
   "outputs": [
    {
     "name": "stderr",
     "output_type": "stream",
     "text": [
      "[nltk_data] Downloading package punkt to /home/poreistein/nltk_data...\n",
      "[nltk_data]   Package punkt is already up-to-date!\n",
      "[nltk_data] Downloading package stopwords to\n",
      "[nltk_data]     /home/poreistein/nltk_data...\n",
      "[nltk_data]   Package stopwords is already up-to-date!\n",
      "[nltk_data] Downloading package wordnet to\n",
      "[nltk_data]     /home/poreistein/nltk_data...\n",
      "[nltk_data]   Package wordnet is already up-to-date!\n"
     ]
    }
   ],
   "source": [
    "# Maths packages\n",
    "import numpy as np\n",
    "\n",
    "# Data Handling Packages\n",
    "import pandas as pd\n",
    "\n",
    "# Machine Learning Packages\n",
    "from sklearn.model_selection import train_test_split\n",
    "from sklearn.utils.class_weight import compute_class_weight\n",
    "from sklearn.feature_extraction.text import CountVectorizer\n",
    "from sklearn.feature_extraction.text import TfidfTransformer\n",
    "from sklearn.svm import SVC\n",
    "from sklearn.model_selection import GridSearchCV\n",
    "from sklearn.metrics import make_scorer, balanced_accuracy_score\n",
    "from sklearn.metrics import plot_confusion_matrix\n",
    "\n",
    "from xgboost.sklearn import XGBClassifier\n",
    "\n",
    "# NLP Packages\n",
    "import nltk\n",
    "from nltk import word_tokenize\n",
    "from nltk.stem.wordnet import WordNetLemmatizer\n",
    "from nltk.corpus import stopwords\n",
    "nltk.download('punkt')\n",
    "nltk.download('stopwords')\n",
    "nltk.download('wordnet')\n",
    "\n",
    "from contractions import fix\n",
    "\n",
    "# Graphics Packages\n",
    "import matplotlib.pyplot as plt\n",
    "import seaborn as sns; sns.set()\n",
    "\n",
    "# Utils\n",
    "import pprint\n",
    "from colorama import Fore, Back, Style\n",
    "from IPython.display import display, HTML\n",
    "from tqdm import tqdm; tqdm.pandas()\n",
    "import warnings\n",
    "warnings.filterwarnings('ignore')\n",
    "\n",
    "# Static Type Checking\n",
    "from typing import List, Union"
   ]
  },
  {
   "cell_type": "markdown",
   "id": "e4f24b85",
   "metadata": {},
   "source": [
    "## 1.2 - Personnal Utils"
   ]
  },
  {
   "cell_type": "code",
   "execution_count": 40,
   "id": "77f7a283",
   "metadata": {},
   "outputs": [],
   "source": [
    "class COLOR:\n",
    "    PURPLE = '\\033[95m'\n",
    "    CYAN = '\\033[96m'\n",
    "    DARKCYAN = '\\033[36m'\n",
    "    BLUE = '\\033[94m'\n",
    "    GREEN = '\\033[92m'\n",
    "    YELLOW = '\\033[93m'\n",
    "    RED = '\\033[91m'\n",
    "    BOLD = '\\033[1m'\n",
    "    UNDERLINE = '\\033[4m'\n",
    "    END = '\\033[0m'\n",
    "    \n",
    "def display_check(boolean: bool) -> str:\n",
    "    \"\"\"\n",
    "    Display the boolean with color and bold for easier understanding.\n",
    "    \"\"\"\n",
    "    # If the boolean is True\n",
    "    if boolean:\n",
    "        return COLOR.BOLD + Back.GREEN + \"True\" + Style.RESET_ALL\n",
    "    else:\n",
    "        return COLOR.BOLD + Back.RED + \"False\" + Style.RESET_ALL\n",
    "    \n",
    "def display_title(title: str) -> None:\n",
    "    \"\"\"Display title\"\"\"\n",
    "    print(f\"----- {COLOR.BOLD} {title} {Style.RESET_ALL} -----\")\n",
    "    \n",
    "def display_dataframe(df: pd.DataFrame) -> None:\n",
    "    \"\"\"Pretty display inside Jupyter Notebook of DataFrames.\"\"\"\n",
    "    display(HTML(df.to_html()))"
   ]
  },
  {
   "cell_type": "markdown",
   "id": "fa43d10a",
   "metadata": {},
   "source": [
    "# 2 - Load Data and Global Parameters"
   ]
  },
  {
   "cell_type": "markdown",
   "id": "8d823b45",
   "metadata": {},
   "source": [
    "## 2.1 - Load Data"
   ]
  },
  {
   "cell_type": "code",
   "execution_count": 41,
   "id": "9114c747",
   "metadata": {},
   "outputs": [
    {
     "data": {
      "text/html": [
       "<table border=\"1\" class=\"dataframe\">\n",
       "  <thead>\n",
       "    <tr style=\"text-align: right;\">\n",
       "      <th></th>\n",
       "      <th>id</th>\n",
       "      <th>l1_category_name</th>\n",
       "      <th>l2_category_name</th>\n",
       "      <th>l3_category_name</th>\n",
       "      <th>title</th>\n",
       "      <th>category_id</th>\n",
       "      <th>price</th>\n",
       "    </tr>\n",
       "  </thead>\n",
       "  <tbody>\n",
       "    <tr>\n",
       "      <th>0</th>\n",
       "      <td>7f1f33cf-a59a-4114-8f9e-cf3effaa2341</td>\n",
       "      <td>Men's Fashion</td>\n",
       "      <td>Men's Watches</td>\n",
       "      <td>NaN</td>\n",
       "      <td>Fossil Leather Watch</td>\n",
       "      <td>20</td>\n",
       "      <td>100.56</td>\n",
       "    </tr>\n",
       "    <tr>\n",
       "      <th>1</th>\n",
       "      <td>88765cd5-3f53-403c-841a-12dc367843c9</td>\n",
       "      <td>Men's Fashion</td>\n",
       "      <td>Men's Watches</td>\n",
       "      <td>NaN</td>\n",
       "      <td>* FREE DELIVERY * JDM Brand New 100% Authentic Seiko Presage White Dial &amp; Blue Hands Men's Automatic Dress Watch SARX033</td>\n",
       "      <td>20</td>\n",
       "      <td>1008.37</td>\n",
       "    </tr>\n",
       "    <tr>\n",
       "      <th>2</th>\n",
       "      <td>264e2900-ba35-4ac0-8858-e2fcb0909e6d</td>\n",
       "      <td>Men's Fashion</td>\n",
       "      <td>Men's Watches</td>\n",
       "      <td>NaN</td>\n",
       "      <td>St Dupont Classic Pen</td>\n",
       "      <td>20</td>\n",
       "      <td>220.31</td>\n",
       "    </tr>\n",
       "    <tr>\n",
       "      <th>3</th>\n",
       "      <td>ffc7337a-7d04-4fa8-a136-ac9d8413f8e8</td>\n",
       "      <td>Men's Fashion</td>\n",
       "      <td>Men's Watches</td>\n",
       "      <td>NaN</td>\n",
       "      <td>CASIO G-SHOCK GX-56BB-1DR / GX-56BB-1D / GX-56BB-1 / GX-56BB TOUGH SOLAR WATCH</td>\n",
       "      <td>20</td>\n",
       "      <td>104.95</td>\n",
       "    </tr>\n",
       "    <tr>\n",
       "      <th>4</th>\n",
       "      <td>34a2e32c-db54-4aff-b89d-173bacbac346</td>\n",
       "      <td>Men's Fashion</td>\n",
       "      <td>Men's Watches</td>\n",
       "      <td>NaN</td>\n",
       "      <td>Fossil Townsman Twist ME1164P</td>\n",
       "      <td>20</td>\n",
       "      <td>166.37</td>\n",
       "    </tr>\n",
       "  </tbody>\n",
       "</table>"
      ],
      "text/plain": [
       "<IPython.core.display.HTML object>"
      ]
     },
     "metadata": {},
     "output_type": "display_data"
    }
   ],
   "source": [
    "# Load the data\n",
    "train_raw_df = pd.read_csv(\"./Data/01_Raw_Data/train.csv\")\n",
    "\n",
    "# Display the raw data\n",
    "display_dataframe(train_raw_df.head(5));"
   ]
  },
  {
   "cell_type": "code",
   "execution_count": 42,
   "id": "2b2c9021",
   "metadata": {},
   "outputs": [
    {
     "data": {
      "text/html": [
       "<table border=\"1\" class=\"dataframe\">\n",
       "  <thead>\n",
       "    <tr style=\"text-align: right;\">\n",
       "      <th></th>\n",
       "      <th>id</th>\n",
       "      <th>title</th>\n",
       "      <th>price</th>\n",
       "    </tr>\n",
       "  </thead>\n",
       "  <tbody>\n",
       "    <tr>\n",
       "      <th>0</th>\n",
       "      <td>c90123c0-09a2-4d0d-8ddd-447cd12edd4a</td>\n",
       "      <td>Yeezy boost 350 V2 Core Black/Ref</td>\n",
       "      <td>402.41</td>\n",
       "    </tr>\n",
       "    <tr>\n",
       "      <th>1</th>\n",
       "      <td>e1dc8ac7-6a89-4ef9-a790-3f4d0835aaf7</td>\n",
       "      <td>Nakamichi Sports Bluetooth Earphones</td>\n",
       "      <td>44.93</td>\n",
       "    </tr>\n",
       "    <tr>\n",
       "      <th>2</th>\n",
       "      <td>520743b2-6c83-4ba9-98a2-3d2fff697fa2</td>\n",
       "      <td>Tefal Steam Cuisine 900 Turbo Diffusion</td>\n",
       "      <td>104.00</td>\n",
       "    </tr>\n",
       "    <tr>\n",
       "      <th>3</th>\n",
       "      <td>e5136110-bd9b-4011-81f3-de904d916c91</td>\n",
       "      <td>B5 Lofter High Gain Wireless USB Adapter 1200Mbps</td>\n",
       "      <td>21.64</td>\n",
       "    </tr>\n",
       "    <tr>\n",
       "      <th>4</th>\n",
       "      <td>a459aa14-7e28-4a95-8c98-690509c373db</td>\n",
       "      <td>Taiwan Customize Handmade APO Float</td>\n",
       "      <td>41.60</td>\n",
       "    </tr>\n",
       "  </tbody>\n",
       "</table>"
      ],
      "text/plain": [
       "<IPython.core.display.HTML object>"
      ]
     },
     "metadata": {},
     "output_type": "display_data"
    }
   ],
   "source": [
    "# Load the data\n",
    "X_test_raw_df = pd.read_csv(\"./Data/01_Raw_Data/test.csv\")\n",
    "\n",
    "# Display the raw data\n",
    "display_dataframe(X_test_raw_df.head(5))"
   ]
  },
  {
   "cell_type": "markdown",
   "id": "6135b465",
   "metadata": {},
   "source": [
    "## 2.2 - Global Parameters"
   ]
  },
  {
   "cell_type": "code",
   "execution_count": 43,
   "id": "7ac2e406",
   "metadata": {},
   "outputs": [
    {
     "name": "stdout",
     "output_type": "stream",
     "text": [
      "----- \u001b[1m Number of classes to distinguish \u001b[0m -----\n",
      "Number of classes to predict? 26\n",
      "\n",
      "\n",
      "----- \u001b[1m Class Weights \u001b[0m -----\n",
      "{1: 0.6100051433823219,\n",
      " 2: 0.844344852537843,\n",
      " 3: 0.8675100425684993,\n",
      " 4: 2.157842932561816,\n",
      " 5: 0.6474784087349532,\n",
      " 6: 0.5414025608597065,\n",
      " 7: 2.433352393125021,\n",
      " 8: 21.823831070889895,\n",
      " 9: 1.9130549752756696,\n",
      " 10: 7.675968169761274,\n",
      " 11: 0.636809351536437,\n",
      " 12: 0.3995030095532608,\n",
      " 13: 4.113138893626698,\n",
      " 14: 8.269059321065265,\n",
      " 15: 0.5535737514251391,\n",
      " 16: 0.3001335844610572,\n",
      " 17: 17.445382204002893,\n",
      " 18: 1.520097493328851,\n",
      " 19: 9.90227210511908,\n",
      " 20: 1.1154694173335185,\n",
      " 21: 0.44205869593112423,\n",
      " 22: 1.4931786753627376,\n",
      " 23: 60.48996655518395,\n",
      " 24: 1.325018315018315,\n",
      " 25: 0.5705430513714295,\n",
      " 26: 3.1782278258577517}\n",
      "\n",
      "\n"
     ]
    }
   ],
   "source": [
    "# Compute the number of classes\n",
    "CLASSES_L = train_raw_df.category_id.unique()\n",
    "NUM_CLASSES = len(CLASSES_L)\n",
    "\n",
    "display_title(\"Number of classes to distinguish\")\n",
    "print(f\"Number of classes to predict? {NUM_CLASSES}\")\n",
    "print(\"\\n\")\n",
    "\n",
    "# Compute class weights\n",
    "CLASS_WEIGHTS_L = compute_class_weight(\n",
    "    class_weight=\"balanced\",\n",
    "    classes=CLASSES_L,\n",
    "    y=train_raw_df.category_id.values\n",
    ")\n",
    "CLASS_WEIGHTS_DCT = {category_id: CLASS_WEIGHTS_L[i] for i, category_id in enumerate(CLASSES_L)}\n",
    "\n",
    "display_title(\"Class Weights\")\n",
    "pprint.pprint(CLASS_WEIGHTS_DCT)\n",
    "print(\"\\n\")\n",
    "\n",
    "# Random state\n",
    "RANDOM_STATE = 42"
   ]
  },
  {
   "cell_type": "markdown",
   "id": "29627749",
   "metadata": {},
   "source": [
    "# 3 - Data Cleaning and Preparation"
   ]
  },
  {
   "cell_type": "markdown",
   "id": "b12609f7",
   "metadata": {},
   "source": [
    "Comments\n",
    "-----\n",
    "\n",
    "Please find below our modelisation hypotheses and choices:\n",
    "* Following our observations in the notebook \"1-DATA-EXPLORATION\", we will discard for simplicity for now the feature 'price' as it presents several difficulties (low information content, null values, extremely high values, etc)"
   ]
  },
  {
   "cell_type": "markdown",
   "id": "b1d1f748",
   "metadata": {},
   "source": [
    "## 3.1 - Data Cleaning and Preparation for Model Ingestion"
   ]
  },
  {
   "cell_type": "code",
   "execution_count": 44,
   "id": "44f31151",
   "metadata": {},
   "outputs": [],
   "source": [
    "def data_preprocessing(df: pd.DataFrame) -> pd.DataFrame:\n",
    "    \"\"\"Preprocess the dataFrame and prepare it for model ingestion.\"\"\"\n",
    "    # Create a new copy of df\n",
    "    new_df = df.copy(deep=True)\n",
    "    \n",
    "    # Set the column \"id\" as the index\n",
    "    new_df.set_index(\"id\", inplace=True)\n",
    "    \n",
    "    # Keep only the columns \"category_id\" if it exists and \"title\"\n",
    "    # The column 'price' is dropped for now\n",
    "    columns_to_drop_l = [col for col in new_df.columns if col not in [\"title\", \"category_id\"]]\n",
    "    new_df.drop(columns=columns_to_drop_l, inplace=True)\n",
    "    \n",
    "    return new_df"
   ]
  },
  {
   "cell_type": "code",
   "execution_count": 45,
   "id": "fafeb62d",
   "metadata": {},
   "outputs": [
    {
     "data": {
      "text/html": [
       "<table border=\"1\" class=\"dataframe\">\n",
       "  <thead>\n",
       "    <tr style=\"text-align: right;\">\n",
       "      <th></th>\n",
       "      <th>title</th>\n",
       "      <th>category_id</th>\n",
       "    </tr>\n",
       "    <tr>\n",
       "      <th>id</th>\n",
       "      <th></th>\n",
       "      <th></th>\n",
       "    </tr>\n",
       "  </thead>\n",
       "  <tbody>\n",
       "    <tr>\n",
       "      <th>7f1f33cf-a59a-4114-8f9e-cf3effaa2341</th>\n",
       "      <td>Fossil Leather Watch</td>\n",
       "      <td>20</td>\n",
       "    </tr>\n",
       "    <tr>\n",
       "      <th>88765cd5-3f53-403c-841a-12dc367843c9</th>\n",
       "      <td>* FREE DELIVERY * JDM Brand New 100% Authentic Seiko Presage White Dial &amp; Blue Hands Men's Automatic Dress Watch SARX033</td>\n",
       "      <td>20</td>\n",
       "    </tr>\n",
       "    <tr>\n",
       "      <th>264e2900-ba35-4ac0-8858-e2fcb0909e6d</th>\n",
       "      <td>St Dupont Classic Pen</td>\n",
       "      <td>20</td>\n",
       "    </tr>\n",
       "    <tr>\n",
       "      <th>ffc7337a-7d04-4fa8-a136-ac9d8413f8e8</th>\n",
       "      <td>CASIO G-SHOCK GX-56BB-1DR / GX-56BB-1D / GX-56BB-1 / GX-56BB TOUGH SOLAR WATCH</td>\n",
       "      <td>20</td>\n",
       "    </tr>\n",
       "    <tr>\n",
       "      <th>34a2e32c-db54-4aff-b89d-173bacbac346</th>\n",
       "      <td>Fossil Townsman Twist ME1164P</td>\n",
       "      <td>20</td>\n",
       "    </tr>\n",
       "  </tbody>\n",
       "</table>"
      ],
      "text/plain": [
       "<IPython.core.display.HTML object>"
      ]
     },
     "metadata": {},
     "output_type": "display_data"
    }
   ],
   "source": [
    "# Preprocess the data for cleaning\n",
    "train_df = data_preprocessing(train_raw_df)\n",
    "X_test_df = data_preprocessing(X_test_raw_df)\n",
    "\n",
    "# And save the preprocess dataframe\n",
    "train_df.to_csv(\"./Data/02_Data_Features/train.csv\")\n",
    "X_test_df.to_csv(\"./Data/02_Data_Features/X_test.csv\")\n",
    "\n",
    "# Display the resulting dataFrames\n",
    "display_dataframe(train_df.head(5))"
   ]
  },
  {
   "cell_type": "markdown",
   "id": "a52879a2",
   "metadata": {},
   "source": [
    "# 4 - Tokenization of the Sentences & Build Models Inputs"
   ]
  },
  {
   "cell_type": "markdown",
   "id": "363c7ac5",
   "metadata": {},
   "source": [
    "## 4.1 - Split the Training set into a training and a validation set"
   ]
  },
  {
   "cell_type": "code",
   "execution_count": 46,
   "id": "e6018a56",
   "metadata": {},
   "outputs": [],
   "source": [
    "def prepare_model_training_inputs(\n",
    "    df: pd.DataFrame,\n",
    "    test_size: float=0.1,\n",
    "    num_classes: int=NUM_CLASSES\n",
    ") -> List[Union[pd.DataFrame, np.array]]:\n",
    "    \"\"\"Prepare model inputs.\"\"\"\n",
    "    # Divide the training set between a training and validation set\n",
    "    X_train_df, y_train_df = df[\"title\"], df[\"category_id\"]\n",
    "        \n",
    "    # Split the training set into a training and validation set\n",
    "    X_train, X_val, y_train, y_val = train_test_split(\n",
    "        X_train_df,\n",
    "        y_train_df,\n",
    "        test_size=test_size,\n",
    "        random_state=RANDOM_STATE,\n",
    "        shuffle=True,\n",
    "        stratify=y_train_df.values,   \n",
    "    )   \n",
    "    # Convert to dataFrames\n",
    "    X_train_df = X_train.to_frame(name=\"title\")\n",
    "    X_val_df = X_val.to_frame(name=\"title\")\n",
    "    \n",
    "    # Append the ground truth as a label\n",
    "    X_train_df[\"label\"] = y_train\n",
    "    X_val_df[\"label\"] = y_val\n",
    "    \n",
    "    return X_train_df, X_val_df"
   ]
  },
  {
   "cell_type": "code",
   "execution_count": 47,
   "id": "af244bbd",
   "metadata": {},
   "outputs": [
    {
     "data": {
      "text/html": [
       "<table border=\"1\" class=\"dataframe\">\n",
       "  <thead>\n",
       "    <tr style=\"text-align: right;\">\n",
       "      <th></th>\n",
       "      <th>title</th>\n",
       "      <th>label</th>\n",
       "    </tr>\n",
       "    <tr>\n",
       "      <th>id</th>\n",
       "      <th></th>\n",
       "      <th></th>\n",
       "    </tr>\n",
       "  </thead>\n",
       "  <tbody>\n",
       "    <tr>\n",
       "      <th>4d084e8b-4209-4057-be73-62d04469db17</th>\n",
       "      <td>BNWT Superga Navy Sneakers</td>\n",
       "      <td>9</td>\n",
       "    </tr>\n",
       "    <tr>\n",
       "      <th>27d5392d-ef1d-4ca6-8951-7d87048541cd</th>\n",
       "      <td>Hollister</td>\n",
       "      <td>12</td>\n",
       "    </tr>\n",
       "    <tr>\n",
       "      <th>254fb7a2-fad6-44a8-a7de-4c4c2c3e0244</th>\n",
       "      <td>Jeffree star lip gloss midnight lick</td>\n",
       "      <td>11</td>\n",
       "    </tr>\n",
       "    <tr>\n",
       "      <th>b77f33f1-ba41-4b10-9577-e65c9d09852d</th>\n",
       "      <td>Etude House Powder Rouge Tint #MoreRed</td>\n",
       "      <td>11</td>\n",
       "    </tr>\n",
       "    <tr>\n",
       "      <th>fb6d1ab8-a4bd-4e93-b28c-5200b58452ee</th>\n",
       "      <td>WMF child’s set 4 pcs Teddy</td>\n",
       "      <td>16</td>\n",
       "    </tr>\n",
       "  </tbody>\n",
       "</table>"
      ],
      "text/plain": [
       "<IPython.core.display.HTML object>"
      ]
     },
     "metadata": {},
     "output_type": "display_data"
    }
   ],
   "source": [
    "# Split the training set\n",
    "X_train_df, X_val_df = prepare_model_training_inputs(train_df, test_size=0.1)\n",
    "\n",
    "# Display resulting traning set\n",
    "display_dataframe(X_train_df.head(5))"
   ]
  },
  {
   "cell_type": "code",
   "execution_count": 48,
   "id": "714c31db",
   "metadata": {},
   "outputs": [
    {
     "data": {
      "text/html": [
       "<table border=\"1\" class=\"dataframe\">\n",
       "  <thead>\n",
       "    <tr style=\"text-align: right;\">\n",
       "      <th></th>\n",
       "      <th>title</th>\n",
       "      <th>label</th>\n",
       "    </tr>\n",
       "    <tr>\n",
       "      <th>id</th>\n",
       "      <th></th>\n",
       "      <th></th>\n",
       "    </tr>\n",
       "  </thead>\n",
       "  <tbody>\n",
       "    <tr>\n",
       "      <th>ce759da2-157b-4508-95c1-75141cc32cbc</th>\n",
       "      <td>Yeezy Boost 350 “Yecheil” Non Reflective</td>\n",
       "      <td>15</td>\n",
       "    </tr>\n",
       "    <tr>\n",
       "      <th>0f9957ea-d96c-4aaf-a5e7-8756767b9356</th>\n",
       "      <td>Music sight reading grade 4</td>\n",
       "      <td>22</td>\n",
       "    </tr>\n",
       "    <tr>\n",
       "      <th>7a14231b-e7a0-4973-a076-ef83f3a4eb7d</th>\n",
       "      <td>Empire Ears EVR UIEM, BNIB</td>\n",
       "      <td>6</td>\n",
       "    </tr>\n",
       "    <tr>\n",
       "      <th>e13998d0-00a5-4abc-857c-112b3d61e53c</th>\n",
       "      <td>Commercial Microwave ( SG warranty / Commercial ) Brand New</td>\n",
       "      <td>16</td>\n",
       "    </tr>\n",
       "    <tr>\n",
       "      <th>18b196e7-33f0-442c-b322-b764934107f3</th>\n",
       "      <td>Mini Sinningia Pirate’s Skyline</td>\n",
       "      <td>18</td>\n",
       "    </tr>\n",
       "  </tbody>\n",
       "</table>"
      ],
      "text/plain": [
       "<IPython.core.display.HTML object>"
      ]
     },
     "metadata": {},
     "output_type": "display_data"
    }
   ],
   "source": [
    "display_dataframe(X_val_df.head(5))"
   ]
  },
  {
   "cell_type": "code",
   "execution_count": 49,
   "id": "0f1e1a30",
   "metadata": {},
   "outputs": [
    {
     "data": {
      "text/html": [
       "<table border=\"1\" class=\"dataframe\">\n",
       "  <thead>\n",
       "    <tr style=\"text-align: right;\">\n",
       "      <th></th>\n",
       "      <th>title</th>\n",
       "    </tr>\n",
       "    <tr>\n",
       "      <th>id</th>\n",
       "      <th></th>\n",
       "    </tr>\n",
       "  </thead>\n",
       "  <tbody>\n",
       "    <tr>\n",
       "      <th>c90123c0-09a2-4d0d-8ddd-447cd12edd4a</th>\n",
       "      <td>Yeezy boost 350 V2 Core Black/Ref</td>\n",
       "    </tr>\n",
       "    <tr>\n",
       "      <th>e1dc8ac7-6a89-4ef9-a790-3f4d0835aaf7</th>\n",
       "      <td>Nakamichi Sports Bluetooth Earphones</td>\n",
       "    </tr>\n",
       "    <tr>\n",
       "      <th>520743b2-6c83-4ba9-98a2-3d2fff697fa2</th>\n",
       "      <td>Tefal Steam Cuisine 900 Turbo Diffusion</td>\n",
       "    </tr>\n",
       "    <tr>\n",
       "      <th>e5136110-bd9b-4011-81f3-de904d916c91</th>\n",
       "      <td>B5 Lofter High Gain Wireless USB Adapter 1200Mbps</td>\n",
       "    </tr>\n",
       "    <tr>\n",
       "      <th>a459aa14-7e28-4a95-8c98-690509c373db</th>\n",
       "      <td>Taiwan Customize Handmade APO Float</td>\n",
       "    </tr>\n",
       "  </tbody>\n",
       "</table>"
      ],
      "text/plain": [
       "<IPython.core.display.HTML object>"
      ]
     },
     "metadata": {},
     "output_type": "display_data"
    }
   ],
   "source": [
    "display_dataframe(X_test_df.head(5))"
   ]
  },
  {
   "cell_type": "markdown",
   "id": "f466953a",
   "metadata": {},
   "source": [
    "## 4.2 - Tokenize and stemmization of the text"
   ]
  },
  {
   "cell_type": "code",
   "execution_count": 50,
   "id": "86ef714e",
   "metadata": {},
   "outputs": [],
   "source": [
    "def preprocess_text(text: str) -> str:\n",
    "    \"\"\"Preprocess the text for the training.\"\"\"\n",
    "    # Check if the text if nan\n",
    "    if text == np.nan:\n",
    "        return [\"\"]\n",
    "    \n",
    "    # 1 - Tokenization of the text\n",
    "    tokens_l = word_tokenize(str(text))\n",
    "    \n",
    "    # 2 - Lowercase\n",
    "    tokens_l = [w.lower() for w in tokens_l]\n",
    "    \n",
    "    # 3 - Remove stop words\n",
    "    stop_words = set(stopwords.words(['english']))\n",
    "    tokens_l = [w for w in tokens_l if not w in stop_words]\n",
    "    \n",
    "    # 4 - Expands contraction\n",
    "    tokens_l = [fix(w) for w in tokens_l]\n",
    "    \n",
    "    # 5 - Lemmization\n",
    "    lmr = WordNetLemmatizer()\n",
    "    tokens_l = [lmr.lemmatize(w) for w in tokens_l]\n",
    "    \n",
    "    # 6 - Convert the list as a string\n",
    "    final_text = \" \".join(tokens_l)\n",
    "    \n",
    "    return final_text   "
   ]
  },
  {
   "cell_type": "code",
   "execution_count": 51,
   "id": "44b3c7b2",
   "metadata": {},
   "outputs": [
    {
     "name": "stderr",
     "output_type": "stream",
     "text": [
      "100%|██████████| 130222/130222 [00:40<00:00, 3189.25it/s]\n",
      "100%|██████████| 14470/14470 [00:04<00:00, 3584.40it/s]\n",
      "100%|██████████| 48560/48560 [00:13<00:00, 3472.22it/s]\n"
     ]
    }
   ],
   "source": [
    "# Preprocess the text\n",
    "X_train_df[\"title\"] = X_train_df[\"title\"].progress_apply(preprocess_text)\n",
    "X_val_df[\"title\"] = X_val_df[\"title\"].progress_apply(preprocess_text)\n",
    "X_test_df[\"title\"] = X_test_df[\"title\"].progress_apply(preprocess_text)"
   ]
  },
  {
   "cell_type": "markdown",
   "id": "d5281dd7",
   "metadata": {},
   "source": [
    "# 5 - Model Fine Tuning"
   ]
  },
  {
   "cell_type": "markdown",
   "id": "f7ffc9a2",
   "metadata": {},
   "source": [
    "Comments\n",
    "-----"
   ]
  },
  {
   "cell_type": "markdown",
   "id": "8d52d7b8",
   "metadata": {},
   "source": [
    "## 5.1 - Fit a TF-IDF Model"
   ]
  },
  {
   "cell_type": "code",
   "execution_count": 72,
   "id": "e66f7b46",
   "metadata": {},
   "outputs": [
    {
     "data": {
      "text/plain": [
       "array([\"[ 'bnwt ' , 'superga ' , 'navy ' , 'sneaker ' ]\",\n",
       "       \"[ 'hollister ' ]\",\n",
       "       \"[ 'jeffree ' , 'star ' , 'lip ' , 'gloss ' , 'midnight ' , 'lick ' ]\",\n",
       "       ...,\n",
       "       \"[ 'breville ' , 'bes840 ' , 'infuser ' , 'espresso ' , 'smart ' , 'grinder ' , 'pro ' ]\",\n",
       "       \"[ 'barbie ' , 'shoe ' ]\", \"[ 'unisex ' , 'gshock ' ]\"],\n",
       "      dtype=object)"
      ]
     },
     "execution_count": 72,
     "metadata": {},
     "output_type": "execute_result"
    }
   ],
   "source": [
    "X_train_df[\"title\"].values"
   ]
  },
  {
   "cell_type": "code",
   "execution_count": 91,
   "id": "f8cc53bf",
   "metadata": {},
   "outputs": [],
   "source": [
    "# For each sample count the presence of each word (token)\n",
    "countVect = CountVectorizer()\n",
    "X_train_counts = countVect.fit_transform(X_train_df[\"title\"].values)\n",
    "\n",
    "# Apply the TF-IDF transform\n",
    "tfidf_transformer = TfidfTransformer()\n",
    "X_train_tfidf = tfidf_transformer.fit_transform(X_train_counts)"
   ]
  },
  {
   "cell_type": "markdown",
   "id": "0c27c27f",
   "metadata": {},
   "source": [
    "## 5.2 - Model Fitting: SVC"
   ]
  },
  {
   "cell_type": "code",
   "execution_count": 92,
   "id": "a7ece0f1",
   "metadata": {
    "scrolled": false
   },
   "outputs": [],
   "source": [
    "# Define the parameters of the GridSearch\n",
    "params_dct = {\n",
    "    \"n_estimators\": [300],\n",
    "    \"max_depth\":[None],\n",
    "    \"min_samples_split\": [10]\n",
    "}\n",
    "\n",
    "# params_dct = {\n",
    "#     \"n_estimators\": [10, 50, 100],\n",
    "#     \"max_depth\": [2, 5, 10],\n",
    "#      \"min_child_weight\": [0, 1, 10],\n",
    "# }\n",
    "\n",
    "# Define the model: a Support Vector Classifier\n",
    "rf = RandomForestClassifier(class_weight=\"balanced\", n_jobs=2)\n",
    "#rf = XGBClassifier(random_state=RANDOM_STATE)\n",
    "\n",
    "# Define the GridSearch\n",
    "clf = GridSearchCV(\n",
    "    estimator=rf,\n",
    "    param_grid=params_dct,\n",
    "    scoring=make_scorer(balanced_accuracy_score),\n",
    "    n_jobs=4,\n",
    "    refit=True,\n",
    "    cv=2,\n",
    "    verbose=10\n",
    "    ,\n",
    ")"
   ]
  },
  {
   "cell_type": "markdown",
   "id": "6eb0ee3b",
   "metadata": {},
   "source": [
    "## 5.3 - Model Training"
   ]
  },
  {
   "cell_type": "code",
   "execution_count": 93,
   "id": "a8e1063a",
   "metadata": {},
   "outputs": [
    {
     "name": "stdout",
     "output_type": "stream",
     "text": [
      "Fitting 2 folds for each of 2 candidates, totalling 4 fits\n",
      "\n",
      "\n",
      "----- \u001b[1m Best Results \u001b[0m -----\n",
      "Best balanced accuracy obtained: 0.8013676595573023\n",
      "Parameters of the best model: {'max_depth': None, 'min_samples_split': 10, 'n_estimators': 300}\n"
     ]
    }
   ],
   "source": [
    "clf.fit(X_train_tfidf, X_train_df[\"label\"].values)\n",
    "print(\"\\n\")\n",
    "\n",
    "# Display score\n",
    "display_title(\"Best Results\")\n",
    "print(f\"Best balanced accuracy obtained: {clf.best_score_}\")\n",
    "print(f\"Parameters of the best model: {clf.best_params_}\")"
   ]
  },
  {
   "cell_type": "markdown",
   "id": "b85de346",
   "metadata": {},
   "source": [
    "# 6 - Analysis of the result"
   ]
  },
  {
   "cell_type": "code",
   "execution_count": 107,
   "id": "df5eee6b",
   "metadata": {
    "scrolled": false
   },
   "outputs": [
    {
     "data": {
      "text/plain": [
       "<sklearn.metrics._plot.confusion_matrix.ConfusionMatrixDisplay at 0x7fa2ad010710>"
      ]
     },
     "execution_count": 107,
     "metadata": {},
     "output_type": "execute_result"
    },
    {
     "data": {
      "image/png": "[encoded data removed]",
      "text/plain": [
       "<Figure size 1080x1080 with 2 Axes>"
      ]
     },
     "metadata": {},
     "output_type": "display_data"
    }
   ],
   "source": [
    "X_val = tfidf_transformer.transform(countVect.transform(X_val_df[\"title\"].values))\n",
    "\n",
    "fig, ax = plt.subplots(figsize=(15, 15))\n",
    "plot_confusion_matrix(clf, X_val, X_val_df[\"label\"].values, ax=ax)"
   ]
  },
  {
   "cell_type": "markdown",
   "id": "1d985c4e",
   "metadata": {},
   "source": [
    "# 7 - Compute the Prediction"
   ]
  },
  {
   "cell_type": "code",
   "execution_count": 136,
   "id": "6bcaf319",
   "metadata": {},
   "outputs": [
    {
     "name": "stdout",
     "output_type": "stream",
     "text": [
      "[0.00000000e+00 0.00000000e+00 0.00000000e+00 0.00000000e+00\n",
      " 0.00000000e+00 0.00000000e+00 0.00000000e+00 0.00000000e+00\n",
      " 4.64447308e-02 0.00000000e+00 0.00000000e+00 5.46997629e-04\n",
      " 0.00000000e+00 0.00000000e+00 9.53008272e-01 0.00000000e+00\n",
      " 0.00000000e+00 0.00000000e+00 0.00000000e+00 0.00000000e+00\n",
      " 0.00000000e+00 0.00000000e+00 0.00000000e+00 0.00000000e+00\n",
      " 0.00000000e+00 0.00000000e+00]\n"
     ]
    }
   ],
   "source": [
    "# Compute the prediction\n",
    "X_test = tfidf_transformer.transform(countVect.transform(X_test_df[\"title\"].values))\n",
    "y_test = clf.predict_proba(X_test)\n",
    "\n",
    "# Extract the top-3 for each prediction\n",
    "y_test = np.argsort(y_test, axis=1)[:, -3:] + 1\n",
    "y_test = np.flip(y_test, axis=1)\n",
    "\n",
    "y_test_df = pd.DataFrame(y_test, index=X_test_df.index, columns=[\"Top-1\", \"Top-2\", \"Top-3\"])\n",
    "\n",
    "# Save the predictions\n",
    "y_test_df.to_csv(\"./Data/05_Model_Outputs/y_test.csv\")\n",
    "\n",
    "# Save the predictions in the main folder\n",
    "y_test_df.to_csv(\"y_test.csv\")"
   ]
  },
  {
   "cell_type": "code",
   "execution_count": null,
   "id": "a8a7496c",
   "metadata": {},
   "outputs": [],
   "source": []
  }
 ],
 "metadata": {
  "kernelspec": {
   "display_name": "Python 3",
   "language": "python",
   "name": "python3"
  },
  "language_info": {
   "codemirror_mode": {
    "name": "ipython",
    "version": 3
   },
   "file_extension": ".py",
   "mimetype": "text/x-python",
   "name": "python",
   "nbconvert_exporter": "python",
   "pygments_lexer": "ipython3",
   "version": "3.7.10"
  }
 },
 "nbformat": 4,
 "nbformat_minor": 5
}
